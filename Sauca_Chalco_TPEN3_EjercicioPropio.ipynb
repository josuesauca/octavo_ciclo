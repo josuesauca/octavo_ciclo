{
  "cells": [
    {
      "cell_type": "markdown",
      "metadata": {
        "id": "UqAU_Wj9DYe8"
      },
      "source": [
        "## Nombres:\n",
        "* Paulina Chalco\n",
        "* Josue Sauca\n",
        "\n",
        "### Fecha: 09-05-2024"
      ]
    },
    {
      "cell_type": "markdown",
      "metadata": {
        "ExecuteTime": {
          "end_time": "2018-05-05T08:19:33.323030Z",
          "start_time": "2018-05-05T08:19:33.308960Z"
        },
        "id": "8AnIjMV7DYe-"
      },
      "source": [
        "# Ejercicio de Regresión Lineal\n",
        "\n",
        "En este notebook intentaremos predecir cuántas veces será compartido en Redes Sociales un artículo de Machine Learning segun algunas de sus características"
      ]
    },
    {
      "cell_type": "markdown",
      "metadata": {
        "id": "PtMJgIuGDYe_"
      },
      "source": [
        "## Predicción: ¿Cuántas veces será compartido un artículo del Blog?"
      ]
    },
    {
      "cell_type": "markdown",
      "metadata": {
        "id": "NsPmcbfcDYe_"
      },
      "source": [
        "Vamos a comenzar por Importar y Visualizar los datos"
      ]
    },
    {
      "cell_type": "code",
      "execution_count": null,
      "metadata": {
        "ExecuteTime": {
          "end_time": "2018-05-06T15:28:50.037886Z",
          "start_time": "2018-05-06T15:28:50.028212Z"
        },
        "id": "ZJAqB9bcDYfA"
      },
      "outputs": [],
      "source": [
        "# Imports necesarios\n",
        "import numpy as np\n",
        "import pandas as pd\n",
        "import seaborn as sb\n",
        "import matplotlib.pyplot as plt\n",
        "%matplotlib inline\n",
        "from mpl_toolkits.mplot3d import Axes3D\n",
        "from matplotlib import cm\n",
        "plt.rcParams['figure.figsize'] = (16, 9)\n",
        "plt.style.use('ggplot')\n",
        "from sklearn import linear_model\n",
        "from sklearn.metrics import mean_squared_error, r2_score"
      ]
    },
    {
      "cell_type": "code",
      "execution_count": null,
      "metadata": {
        "ExecuteTime": {
          "end_time": "2018-05-06T15:28:50.051323Z",
          "start_time": "2018-05-06T15:28:50.040878Z"
        },
        "id": "t0pDlPJpDYfB"
      },
      "outputs": [],
      "source": [
        "#cargamos los datos de entrada\n",
        "data = pd.read_csv(\"./datascience_salaries.csv\")"
      ]
    },
    {
      "cell_type": "code",
      "execution_count": null,
      "metadata": {
        "ExecuteTime": {
          "end_time": "2018-05-06T15:28:50.064402Z",
          "start_time": "2018-05-06T15:28:50.055301Z"
        },
        "colab": {
          "base_uri": "https://localhost:8080/"
        },
        "id": "T4IAISTbDYfB",
        "outputId": "5bd1c32a-a861-4d1e-80a4-e16d43de6f16"
      },
      "outputs": [
        {
          "output_type": "execute_result",
          "data": {
            "text/plain": [
              "(1171, 7)"
            ]
          },
          "metadata": {},
          "execution_count": 3
        }
      ],
      "source": [
        "#veamos cuantas dimensiones y registros contiene\n",
        "data.shape"
      ]
    },
    {
      "cell_type": "code",
      "execution_count": null,
      "metadata": {
        "ExecuteTime": {
          "end_time": "2018-05-06T15:28:50.093837Z",
          "start_time": "2018-05-06T15:28:50.068610Z"
        },
        "colab": {
          "base_uri": "https://localhost:8080/",
          "height": 206
        },
        "id": "JEr93I1DDYfC",
        "outputId": "697bfe55-b17d-4c2d-d0ac-7c3b3a8ecda1"
      },
      "outputs": [
        {
          "output_type": "execute_result",
          "data": {
            "text/plain": [
              "   Unnamed: 0       job_title   job_type experience_level       location  \\\n",
              "0           0  Data scientist  Full Time           Senior  New York City   \n",
              "1           2  Data scientist  Full Time           Senior         Boston   \n",
              "2           3  Data scientist  Full Time           Senior         London   \n",
              "3           4  Data scientist  Full Time           Senior         Boston   \n",
              "4           5  Data scientist  Full Time           Senior  New York City   \n",
              "\n",
              "  salary_currency  salary  \n",
              "0             USD  149000  \n",
              "1             USD  120000  \n",
              "2             USD   68000  \n",
              "3             USD  120000  \n",
              "4             USD  149000  "
            ],
            "text/html": [
              "\n",
              "  <div id=\"df-501043a8-ff5d-4dba-ad63-01c7230798d1\" class=\"colab-df-container\">\n",
              "    <div>\n",
              "<style scoped>\n",
              "    .dataframe tbody tr th:only-of-type {\n",
              "        vertical-align: middle;\n",
              "    }\n",
              "\n",
              "    .dataframe tbody tr th {\n",
              "        vertical-align: top;\n",
              "    }\n",
              "\n",
              "    .dataframe thead th {\n",
              "        text-align: right;\n",
              "    }\n",
              "</style>\n",
              "<table border=\"1\" class=\"dataframe\">\n",
              "  <thead>\n",
              "    <tr style=\"text-align: right;\">\n",
              "      <th></th>\n",
              "      <th>Unnamed: 0</th>\n",
              "      <th>job_title</th>\n",
              "      <th>job_type</th>\n",
              "      <th>experience_level</th>\n",
              "      <th>location</th>\n",
              "      <th>salary_currency</th>\n",
              "      <th>salary</th>\n",
              "    </tr>\n",
              "  </thead>\n",
              "  <tbody>\n",
              "    <tr>\n",
              "      <th>0</th>\n",
              "      <td>0</td>\n",
              "      <td>Data scientist</td>\n",
              "      <td>Full Time</td>\n",
              "      <td>Senior</td>\n",
              "      <td>New York City</td>\n",
              "      <td>USD</td>\n",
              "      <td>149000</td>\n",
              "    </tr>\n",
              "    <tr>\n",
              "      <th>1</th>\n",
              "      <td>2</td>\n",
              "      <td>Data scientist</td>\n",
              "      <td>Full Time</td>\n",
              "      <td>Senior</td>\n",
              "      <td>Boston</td>\n",
              "      <td>USD</td>\n",
              "      <td>120000</td>\n",
              "    </tr>\n",
              "    <tr>\n",
              "      <th>2</th>\n",
              "      <td>3</td>\n",
              "      <td>Data scientist</td>\n",
              "      <td>Full Time</td>\n",
              "      <td>Senior</td>\n",
              "      <td>London</td>\n",
              "      <td>USD</td>\n",
              "      <td>68000</td>\n",
              "    </tr>\n",
              "    <tr>\n",
              "      <th>3</th>\n",
              "      <td>4</td>\n",
              "      <td>Data scientist</td>\n",
              "      <td>Full Time</td>\n",
              "      <td>Senior</td>\n",
              "      <td>Boston</td>\n",
              "      <td>USD</td>\n",
              "      <td>120000</td>\n",
              "    </tr>\n",
              "    <tr>\n",
              "      <th>4</th>\n",
              "      <td>5</td>\n",
              "      <td>Data scientist</td>\n",
              "      <td>Full Time</td>\n",
              "      <td>Senior</td>\n",
              "      <td>New York City</td>\n",
              "      <td>USD</td>\n",
              "      <td>149000</td>\n",
              "    </tr>\n",
              "  </tbody>\n",
              "</table>\n",
              "</div>\n",
              "    <div class=\"colab-df-buttons\">\n",
              "\n",
              "  <div class=\"colab-df-container\">\n",
              "    <button class=\"colab-df-convert\" onclick=\"convertToInteractive('df-501043a8-ff5d-4dba-ad63-01c7230798d1')\"\n",
              "            title=\"Convert this dataframe to an interactive table.\"\n",
              "            style=\"display:none;\">\n",
              "\n",
              "  <svg xmlns=\"http://www.w3.org/2000/svg\" height=\"24px\" viewBox=\"0 -960 960 960\">\n",
              "    <path d=\"M120-120v-720h720v720H120Zm60-500h600v-160H180v160Zm220 220h160v-160H400v160Zm0 220h160v-160H400v160ZM180-400h160v-160H180v160Zm440 0h160v-160H620v160ZM180-180h160v-160H180v160Zm440 0h160v-160H620v160Z\"/>\n",
              "  </svg>\n",
              "    </button>\n",
              "\n",
              "  <style>\n",
              "    .colab-df-container {\n",
              "      display:flex;\n",
              "      gap: 12px;\n",
              "    }\n",
              "\n",
              "    .colab-df-convert {\n",
              "      background-color: #E8F0FE;\n",
              "      border: none;\n",
              "      border-radius: 50%;\n",
              "      cursor: pointer;\n",
              "      display: none;\n",
              "      fill: #1967D2;\n",
              "      height: 32px;\n",
              "      padding: 0 0 0 0;\n",
              "      width: 32px;\n",
              "    }\n",
              "\n",
              "    .colab-df-convert:hover {\n",
              "      background-color: #E2EBFA;\n",
              "      box-shadow: 0px 1px 2px rgba(60, 64, 67, 0.3), 0px 1px 3px 1px rgba(60, 64, 67, 0.15);\n",
              "      fill: #174EA6;\n",
              "    }\n",
              "\n",
              "    .colab-df-buttons div {\n",
              "      margin-bottom: 4px;\n",
              "    }\n",
              "\n",
              "    [theme=dark] .colab-df-convert {\n",
              "      background-color: #3B4455;\n",
              "      fill: #D2E3FC;\n",
              "    }\n",
              "\n",
              "    [theme=dark] .colab-df-convert:hover {\n",
              "      background-color: #434B5C;\n",
              "      box-shadow: 0px 1px 3px 1px rgba(0, 0, 0, 0.15);\n",
              "      filter: drop-shadow(0px 1px 2px rgba(0, 0, 0, 0.3));\n",
              "      fill: #FFFFFF;\n",
              "    }\n",
              "  </style>\n",
              "\n",
              "    <script>\n",
              "      const buttonEl =\n",
              "        document.querySelector('#df-501043a8-ff5d-4dba-ad63-01c7230798d1 button.colab-df-convert');\n",
              "      buttonEl.style.display =\n",
              "        google.colab.kernel.accessAllowed ? 'block' : 'none';\n",
              "\n",
              "      async function convertToInteractive(key) {\n",
              "        const element = document.querySelector('#df-501043a8-ff5d-4dba-ad63-01c7230798d1');\n",
              "        const dataTable =\n",
              "          await google.colab.kernel.invokeFunction('convertToInteractive',\n",
              "                                                    [key], {});\n",
              "        if (!dataTable) return;\n",
              "\n",
              "        const docLinkHtml = 'Like what you see? Visit the ' +\n",
              "          '<a target=\"_blank\" href=https://colab.research.google.com/notebooks/data_table.ipynb>data table notebook</a>'\n",
              "          + ' to learn more about interactive tables.';\n",
              "        element.innerHTML = '';\n",
              "        dataTable['output_type'] = 'display_data';\n",
              "        await google.colab.output.renderOutput(dataTable, element);\n",
              "        const docLink = document.createElement('div');\n",
              "        docLink.innerHTML = docLinkHtml;\n",
              "        element.appendChild(docLink);\n",
              "      }\n",
              "    </script>\n",
              "  </div>\n",
              "\n",
              "\n",
              "<div id=\"df-c6fbdafa-bcef-4b1c-bcc2-d08940bc6352\">\n",
              "  <button class=\"colab-df-quickchart\" onclick=\"quickchart('df-c6fbdafa-bcef-4b1c-bcc2-d08940bc6352')\"\n",
              "            title=\"Suggest charts\"\n",
              "            style=\"display:none;\">\n",
              "\n",
              "<svg xmlns=\"http://www.w3.org/2000/svg\" height=\"24px\"viewBox=\"0 0 24 24\"\n",
              "     width=\"24px\">\n",
              "    <g>\n",
              "        <path d=\"M19 3H5c-1.1 0-2 .9-2 2v14c0 1.1.9 2 2 2h14c1.1 0 2-.9 2-2V5c0-1.1-.9-2-2-2zM9 17H7v-7h2v7zm4 0h-2V7h2v10zm4 0h-2v-4h2v4z\"/>\n",
              "    </g>\n",
              "</svg>\n",
              "  </button>\n",
              "\n",
              "<style>\n",
              "  .colab-df-quickchart {\n",
              "      --bg-color: #E8F0FE;\n",
              "      --fill-color: #1967D2;\n",
              "      --hover-bg-color: #E2EBFA;\n",
              "      --hover-fill-color: #174EA6;\n",
              "      --disabled-fill-color: #AAA;\n",
              "      --disabled-bg-color: #DDD;\n",
              "  }\n",
              "\n",
              "  [theme=dark] .colab-df-quickchart {\n",
              "      --bg-color: #3B4455;\n",
              "      --fill-color: #D2E3FC;\n",
              "      --hover-bg-color: #434B5C;\n",
              "      --hover-fill-color: #FFFFFF;\n",
              "      --disabled-bg-color: #3B4455;\n",
              "      --disabled-fill-color: #666;\n",
              "  }\n",
              "\n",
              "  .colab-df-quickchart {\n",
              "    background-color: var(--bg-color);\n",
              "    border: none;\n",
              "    border-radius: 50%;\n",
              "    cursor: pointer;\n",
              "    display: none;\n",
              "    fill: var(--fill-color);\n",
              "    height: 32px;\n",
              "    padding: 0;\n",
              "    width: 32px;\n",
              "  }\n",
              "\n",
              "  .colab-df-quickchart:hover {\n",
              "    background-color: var(--hover-bg-color);\n",
              "    box-shadow: 0 1px 2px rgba(60, 64, 67, 0.3), 0 1px 3px 1px rgba(60, 64, 67, 0.15);\n",
              "    fill: var(--button-hover-fill-color);\n",
              "  }\n",
              "\n",
              "  .colab-df-quickchart-complete:disabled,\n",
              "  .colab-df-quickchart-complete:disabled:hover {\n",
              "    background-color: var(--disabled-bg-color);\n",
              "    fill: var(--disabled-fill-color);\n",
              "    box-shadow: none;\n",
              "  }\n",
              "\n",
              "  .colab-df-spinner {\n",
              "    border: 2px solid var(--fill-color);\n",
              "    border-color: transparent;\n",
              "    border-bottom-color: var(--fill-color);\n",
              "    animation:\n",
              "      spin 1s steps(1) infinite;\n",
              "  }\n",
              "\n",
              "  @keyframes spin {\n",
              "    0% {\n",
              "      border-color: transparent;\n",
              "      border-bottom-color: var(--fill-color);\n",
              "      border-left-color: var(--fill-color);\n",
              "    }\n",
              "    20% {\n",
              "      border-color: transparent;\n",
              "      border-left-color: var(--fill-color);\n",
              "      border-top-color: var(--fill-color);\n",
              "    }\n",
              "    30% {\n",
              "      border-color: transparent;\n",
              "      border-left-color: var(--fill-color);\n",
              "      border-top-color: var(--fill-color);\n",
              "      border-right-color: var(--fill-color);\n",
              "    }\n",
              "    40% {\n",
              "      border-color: transparent;\n",
              "      border-right-color: var(--fill-color);\n",
              "      border-top-color: var(--fill-color);\n",
              "    }\n",
              "    60% {\n",
              "      border-color: transparent;\n",
              "      border-right-color: var(--fill-color);\n",
              "    }\n",
              "    80% {\n",
              "      border-color: transparent;\n",
              "      border-right-color: var(--fill-color);\n",
              "      border-bottom-color: var(--fill-color);\n",
              "    }\n",
              "    90% {\n",
              "      border-color: transparent;\n",
              "      border-bottom-color: var(--fill-color);\n",
              "    }\n",
              "  }\n",
              "</style>\n",
              "\n",
              "  <script>\n",
              "    async function quickchart(key) {\n",
              "      const quickchartButtonEl =\n",
              "        document.querySelector('#' + key + ' button');\n",
              "      quickchartButtonEl.disabled = true;  // To prevent multiple clicks.\n",
              "      quickchartButtonEl.classList.add('colab-df-spinner');\n",
              "      try {\n",
              "        const charts = await google.colab.kernel.invokeFunction(\n",
              "            'suggestCharts', [key], {});\n",
              "      } catch (error) {\n",
              "        console.error('Error during call to suggestCharts:', error);\n",
              "      }\n",
              "      quickchartButtonEl.classList.remove('colab-df-spinner');\n",
              "      quickchartButtonEl.classList.add('colab-df-quickchart-complete');\n",
              "    }\n",
              "    (() => {\n",
              "      let quickchartButtonEl =\n",
              "        document.querySelector('#df-c6fbdafa-bcef-4b1c-bcc2-d08940bc6352 button');\n",
              "      quickchartButtonEl.style.display =\n",
              "        google.colab.kernel.accessAllowed ? 'block' : 'none';\n",
              "    })();\n",
              "  </script>\n",
              "</div>\n",
              "\n",
              "    </div>\n",
              "  </div>\n"
            ],
            "application/vnd.google.colaboratory.intrinsic+json": {
              "type": "dataframe",
              "variable_name": "data",
              "summary": "{\n  \"name\": \"data\",\n  \"rows\": 1171,\n  \"fields\": [\n    {\n      \"column\": \"Unnamed: 0\",\n      \"properties\": {\n        \"dtype\": \"number\",\n        \"std\": 647,\n        \"min\": 0,\n        \"max\": 2259,\n        \"num_unique_values\": 1171,\n        \"samples\": [\n          884,\n          270,\n          958\n        ],\n        \"semantic_type\": \"\",\n        \"description\": \"\"\n      }\n    },\n    {\n      \"column\": \"job_title\",\n      \"properties\": {\n        \"dtype\": \"category\",\n        \"num_unique_values\": 5,\n        \"samples\": [\n          \"Data analyst\",\n          \"ML Ops\",\n          \"Big data\"\n        ],\n        \"semantic_type\": \"\",\n        \"description\": \"\"\n      }\n    },\n    {\n      \"column\": \"job_type\",\n      \"properties\": {\n        \"dtype\": \"category\",\n        \"num_unique_values\": 2,\n        \"samples\": [\n          \"Internship\",\n          \"Full Time\"\n        ],\n        \"semantic_type\": \"\",\n        \"description\": \"\"\n      }\n    },\n    {\n      \"column\": \"experience_level\",\n      \"properties\": {\n        \"dtype\": \"category\",\n        \"num_unique_values\": 4,\n        \"samples\": [\n          \"Entry\",\n          \"Executive\"\n        ],\n        \"semantic_type\": \"\",\n        \"description\": \"\"\n      }\n    },\n    {\n      \"column\": \"location\",\n      \"properties\": {\n        \"dtype\": \"category\",\n        \"num_unique_values\": 320,\n        \"samples\": [\n          \"Paris or Remote from France\",\n          \"Ciudad de M\\u00e9xico\"\n        ],\n        \"semantic_type\": \"\",\n        \"description\": \"\"\n      }\n    },\n    {\n      \"column\": \"salary_currency\",\n      \"properties\": {\n        \"dtype\": \"category\",\n        \"num_unique_values\": 3,\n        \"samples\": [\n          \"USD\",\n          \"EUR\"\n        ],\n        \"semantic_type\": \"\",\n        \"description\": \"\"\n      }\n    },\n    {\n      \"column\": \"salary\",\n      \"properties\": {\n        \"dtype\": \"number\",\n        \"std\": 32551,\n        \"min\": 30000,\n        \"max\": 228000,\n        \"num_unique_values\": 87,\n        \"samples\": [\n          175000,\n          149000\n        ],\n        \"semantic_type\": \"\",\n        \"description\": \"\"\n      }\n    }\n  ]\n}"
            }
          },
          "metadata": {},
          "execution_count": 4
        }
      ],
      "source": [
        "#Observamos las cabecera del dataset con sus respectivos nombres de la columna\n",
        "data.head()"
      ]
    },
    {
      "cell_type": "code",
      "source": [
        "\"\"\"\n",
        "  En este caso se va a proceder a eliminar la primera columna ya que simplemente es\n",
        "  un identificador que lo pusieron en el dataset y no es relevante para el estudio que se va a hacer\n",
        "\"\"\"\n",
        "data = data.drop('Unnamed: 0', axis=1)"
      ],
      "metadata": {
        "id": "Zjeu8LGgVP57"
      },
      "execution_count": null,
      "outputs": []
    },
    {
      "cell_type": "code",
      "source": [
        "\"\"\"\n",
        "  Contamos los valores de la columna job_title y como se puede observar\n",
        "  las clases cuentan con una dispersion bastante pareja.\n",
        "\"\"\"\n",
        "data['job_title'].value_counts()"
      ],
      "metadata": {
        "colab": {
          "base_uri": "https://localhost:8080/"
        },
        "id": "U32dDRsZTJOC",
        "outputId": "eca9fcf1-7b97-4828-959e-5208221d082f"
      },
      "execution_count": null,
      "outputs": [
        {
          "output_type": "execute_result",
          "data": {
            "text/plain": [
              "job_title\n",
              "Data scientist      394\n",
              "Data analyst        368\n",
              "Machine learning    289\n",
              "Big data            101\n",
              "ML Ops               19\n",
              "Name: count, dtype: int64"
            ]
          },
          "metadata": {},
          "execution_count": 6
        }
      ]
    },
    {
      "cell_type": "code",
      "source": [
        "\"\"\"\n",
        "  En este caso como se va a realizar una estudio de regresion lineal\n",
        "  se va a proceder a realizar una transformacion de los datos ya que\n",
        "  se tiene algunos incoveninetes a la hora de trabajar con variables\n",
        "  categoricas.\n",
        "\n",
        "  'Data scientist' : 1,\n",
        "  'Data analyst' : 2,\n",
        "  'Machine learning' : 3,\n",
        "  'Big data' : 4,\n",
        "  'ML Ops' : 5\n",
        "\"\"\"\n",
        "\n",
        "data['job_title'] = data['job_title'].replace(\n",
        "    {\n",
        "      'Data scientist' : 1,\n",
        "      'Data analyst' : 2,\n",
        "      'Machine learning' : 3,\n",
        "      'Big data' : 4,\n",
        "      'ML Ops' : 5\n",
        "    }\n",
        ")"
      ],
      "metadata": {
        "id": "K07L8G93UB9I"
      },
      "execution_count": null,
      "outputs": []
    },
    {
      "cell_type": "code",
      "source": [
        "#Contamos los valores de la experiencia de trabajo que tienen\n",
        "#las personas del dataset\n",
        "data['experience_level'].value_counts()"
      ],
      "metadata": {
        "colab": {
          "base_uri": "https://localhost:8080/"
        },
        "id": "THrPZ1_PTJRO",
        "outputId": "1b6cce6e-1d59-4ed8-e760-2055be60aac7"
      },
      "execution_count": null,
      "outputs": [
        {
          "output_type": "execute_result",
          "data": {
            "text/plain": [
              "experience_level\n",
              "Senior       727\n",
              "Mid          305\n",
              "Entry        126\n",
              "Executive     13\n",
              "Name: count, dtype: int64"
            ]
          },
          "metadata": {},
          "execution_count": 8
        }
      ]
    },
    {
      "cell_type": "code",
      "source": [
        "\"\"\"\n",
        "Tranformamos dichos datos para trabajar con variables numericas\n",
        "en vez de categoricas.\n",
        "\n",
        "  'Senior' : 1,\n",
        "  'Mid' : 2,\n",
        "  'Entry' : 3,\n",
        "  'Executive' : 4\n",
        "\"\"\"\n",
        "\n",
        "data['experience_level'] = data['experience_level'].replace(\n",
        "    {\n",
        "        'Senior' : 1,\n",
        "        'Mid' : 2,\n",
        "        'Entry' : 3,\n",
        "        'Executive' : 4\n",
        "    }\n",
        ")"
      ],
      "metadata": {
        "id": "T65bLZIqTmL0"
      },
      "execution_count": null,
      "outputs": []
    },
    {
      "cell_type": "code",
      "source": [
        "#Se cuenta el tipo de trabajo que tiene\n",
        "#ya sea tiempo completo o parcial\n",
        "data['job_type'].value_counts()"
      ],
      "metadata": {
        "colab": {
          "base_uri": "https://localhost:8080/"
        },
        "id": "JGF0d12RTJW1",
        "outputId": "993fb2a6-5a2d-4bb5-ae40-e0ec2aaacec8"
      },
      "execution_count": null,
      "outputs": [
        {
          "output_type": "execute_result",
          "data": {
            "text/plain": [
              "job_type\n",
              "Full Time     1136\n",
              "Internship      35\n",
              "Name: count, dtype: int64"
            ]
          },
          "metadata": {},
          "execution_count": 10
        }
      ]
    },
    {
      "cell_type": "code",
      "source": [
        "\"\"\"\n",
        "  Se realiza su respectiva transformacion para trabajar\n",
        "  con dichos datos.\n",
        "  'Full Time' : 1,\n",
        "  'Internship' : 2\n",
        "\"\"\"\n",
        "\n",
        "data['job_type'] = data['job_type'].replace(\n",
        "    {\n",
        "      'Full Time' : 1,\n",
        "      'Internship' : 2\n",
        "    }\n",
        ")"
      ],
      "metadata": {
        "id": "pbqLrihCVyln"
      },
      "execution_count": null,
      "outputs": []
    },
    {
      "cell_type": "code",
      "execution_count": null,
      "metadata": {
        "ExecuteTime": {
          "end_time": "2018-05-06T15:28:50.126775Z",
          "start_time": "2018-05-06T15:28:50.097200Z"
        },
        "colab": {
          "base_uri": "https://localhost:8080/",
          "height": 300
        },
        "id": "M3jAcA0eDYfD",
        "outputId": "a84fe195-bc2f-457d-efb4-efe3baf75a32"
      },
      "outputs": [
        {
          "output_type": "execute_result",
          "data": {
            "text/plain": [
              "         job_title     job_type  experience_level         salary\n",
              "count  1171.000000  1171.000000       1171.000000    1171.000000\n",
              "mean      2.131512     1.029889          1.508967   64836.037575\n",
              "std       1.028544     0.170354          0.729510   32551.767046\n",
              "min       1.000000     1.000000          1.000000   30000.000000\n",
              "25%       1.000000     1.000000          1.000000   45000.000000\n",
              "50%       2.000000     1.000000          1.000000   63000.000000\n",
              "75%       3.000000     1.000000          2.000000   68000.000000\n",
              "max       5.000000     2.000000          4.000000  228000.000000"
            ],
            "text/html": [
              "\n",
              "  <div id=\"df-c546847d-a4c2-4c0a-a097-10e1eb00c645\" class=\"colab-df-container\">\n",
              "    <div>\n",
              "<style scoped>\n",
              "    .dataframe tbody tr th:only-of-type {\n",
              "        vertical-align: middle;\n",
              "    }\n",
              "\n",
              "    .dataframe tbody tr th {\n",
              "        vertical-align: top;\n",
              "    }\n",
              "\n",
              "    .dataframe thead th {\n",
              "        text-align: right;\n",
              "    }\n",
              "</style>\n",
              "<table border=\"1\" class=\"dataframe\">\n",
              "  <thead>\n",
              "    <tr style=\"text-align: right;\">\n",
              "      <th></th>\n",
              "      <th>job_title</th>\n",
              "      <th>job_type</th>\n",
              "      <th>experience_level</th>\n",
              "      <th>salary</th>\n",
              "    </tr>\n",
              "  </thead>\n",
              "  <tbody>\n",
              "    <tr>\n",
              "      <th>count</th>\n",
              "      <td>1171.000000</td>\n",
              "      <td>1171.000000</td>\n",
              "      <td>1171.000000</td>\n",
              "      <td>1171.000000</td>\n",
              "    </tr>\n",
              "    <tr>\n",
              "      <th>mean</th>\n",
              "      <td>2.131512</td>\n",
              "      <td>1.029889</td>\n",
              "      <td>1.508967</td>\n",
              "      <td>64836.037575</td>\n",
              "    </tr>\n",
              "    <tr>\n",
              "      <th>std</th>\n",
              "      <td>1.028544</td>\n",
              "      <td>0.170354</td>\n",
              "      <td>0.729510</td>\n",
              "      <td>32551.767046</td>\n",
              "    </tr>\n",
              "    <tr>\n",
              "      <th>min</th>\n",
              "      <td>1.000000</td>\n",
              "      <td>1.000000</td>\n",
              "      <td>1.000000</td>\n",
              "      <td>30000.000000</td>\n",
              "    </tr>\n",
              "    <tr>\n",
              "      <th>25%</th>\n",
              "      <td>1.000000</td>\n",
              "      <td>1.000000</td>\n",
              "      <td>1.000000</td>\n",
              "      <td>45000.000000</td>\n",
              "    </tr>\n",
              "    <tr>\n",
              "      <th>50%</th>\n",
              "      <td>2.000000</td>\n",
              "      <td>1.000000</td>\n",
              "      <td>1.000000</td>\n",
              "      <td>63000.000000</td>\n",
              "    </tr>\n",
              "    <tr>\n",
              "      <th>75%</th>\n",
              "      <td>3.000000</td>\n",
              "      <td>1.000000</td>\n",
              "      <td>2.000000</td>\n",
              "      <td>68000.000000</td>\n",
              "    </tr>\n",
              "    <tr>\n",
              "      <th>max</th>\n",
              "      <td>5.000000</td>\n",
              "      <td>2.000000</td>\n",
              "      <td>4.000000</td>\n",
              "      <td>228000.000000</td>\n",
              "    </tr>\n",
              "  </tbody>\n",
              "</table>\n",
              "</div>\n",
              "    <div class=\"colab-df-buttons\">\n",
              "\n",
              "  <div class=\"colab-df-container\">\n",
              "    <button class=\"colab-df-convert\" onclick=\"convertToInteractive('df-c546847d-a4c2-4c0a-a097-10e1eb00c645')\"\n",
              "            title=\"Convert this dataframe to an interactive table.\"\n",
              "            style=\"display:none;\">\n",
              "\n",
              "  <svg xmlns=\"http://www.w3.org/2000/svg\" height=\"24px\" viewBox=\"0 -960 960 960\">\n",
              "    <path d=\"M120-120v-720h720v720H120Zm60-500h600v-160H180v160Zm220 220h160v-160H400v160Zm0 220h160v-160H400v160ZM180-400h160v-160H180v160Zm440 0h160v-160H620v160ZM180-180h160v-160H180v160Zm440 0h160v-160H620v160Z\"/>\n",
              "  </svg>\n",
              "    </button>\n",
              "\n",
              "  <style>\n",
              "    .colab-df-container {\n",
              "      display:flex;\n",
              "      gap: 12px;\n",
              "    }\n",
              "\n",
              "    .colab-df-convert {\n",
              "      background-color: #E8F0FE;\n",
              "      border: none;\n",
              "      border-radius: 50%;\n",
              "      cursor: pointer;\n",
              "      display: none;\n",
              "      fill: #1967D2;\n",
              "      height: 32px;\n",
              "      padding: 0 0 0 0;\n",
              "      width: 32px;\n",
              "    }\n",
              "\n",
              "    .colab-df-convert:hover {\n",
              "      background-color: #E2EBFA;\n",
              "      box-shadow: 0px 1px 2px rgba(60, 64, 67, 0.3), 0px 1px 3px 1px rgba(60, 64, 67, 0.15);\n",
              "      fill: #174EA6;\n",
              "    }\n",
              "\n",
              "    .colab-df-buttons div {\n",
              "      margin-bottom: 4px;\n",
              "    }\n",
              "\n",
              "    [theme=dark] .colab-df-convert {\n",
              "      background-color: #3B4455;\n",
              "      fill: #D2E3FC;\n",
              "    }\n",
              "\n",
              "    [theme=dark] .colab-df-convert:hover {\n",
              "      background-color: #434B5C;\n",
              "      box-shadow: 0px 1px 3px 1px rgba(0, 0, 0, 0.15);\n",
              "      filter: drop-shadow(0px 1px 2px rgba(0, 0, 0, 0.3));\n",
              "      fill: #FFFFFF;\n",
              "    }\n",
              "  </style>\n",
              "\n",
              "    <script>\n",
              "      const buttonEl =\n",
              "        document.querySelector('#df-c546847d-a4c2-4c0a-a097-10e1eb00c645 button.colab-df-convert');\n",
              "      buttonEl.style.display =\n",
              "        google.colab.kernel.accessAllowed ? 'block' : 'none';\n",
              "\n",
              "      async function convertToInteractive(key) {\n",
              "        const element = document.querySelector('#df-c546847d-a4c2-4c0a-a097-10e1eb00c645');\n",
              "        const dataTable =\n",
              "          await google.colab.kernel.invokeFunction('convertToInteractive',\n",
              "                                                    [key], {});\n",
              "        if (!dataTable) return;\n",
              "\n",
              "        const docLinkHtml = 'Like what you see? Visit the ' +\n",
              "          '<a target=\"_blank\" href=https://colab.research.google.com/notebooks/data_table.ipynb>data table notebook</a>'\n",
              "          + ' to learn more about interactive tables.';\n",
              "        element.innerHTML = '';\n",
              "        dataTable['output_type'] = 'display_data';\n",
              "        await google.colab.output.renderOutput(dataTable, element);\n",
              "        const docLink = document.createElement('div');\n",
              "        docLink.innerHTML = docLinkHtml;\n",
              "        element.appendChild(docLink);\n",
              "      }\n",
              "    </script>\n",
              "  </div>\n",
              "\n",
              "\n",
              "<div id=\"df-c7b420ac-7819-48b9-88bc-bbf3e1026292\">\n",
              "  <button class=\"colab-df-quickchart\" onclick=\"quickchart('df-c7b420ac-7819-48b9-88bc-bbf3e1026292')\"\n",
              "            title=\"Suggest charts\"\n",
              "            style=\"display:none;\">\n",
              "\n",
              "<svg xmlns=\"http://www.w3.org/2000/svg\" height=\"24px\"viewBox=\"0 0 24 24\"\n",
              "     width=\"24px\">\n",
              "    <g>\n",
              "        <path d=\"M19 3H5c-1.1 0-2 .9-2 2v14c0 1.1.9 2 2 2h14c1.1 0 2-.9 2-2V5c0-1.1-.9-2-2-2zM9 17H7v-7h2v7zm4 0h-2V7h2v10zm4 0h-2v-4h2v4z\"/>\n",
              "    </g>\n",
              "</svg>\n",
              "  </button>\n",
              "\n",
              "<style>\n",
              "  .colab-df-quickchart {\n",
              "      --bg-color: #E8F0FE;\n",
              "      --fill-color: #1967D2;\n",
              "      --hover-bg-color: #E2EBFA;\n",
              "      --hover-fill-color: #174EA6;\n",
              "      --disabled-fill-color: #AAA;\n",
              "      --disabled-bg-color: #DDD;\n",
              "  }\n",
              "\n",
              "  [theme=dark] .colab-df-quickchart {\n",
              "      --bg-color: #3B4455;\n",
              "      --fill-color: #D2E3FC;\n",
              "      --hover-bg-color: #434B5C;\n",
              "      --hover-fill-color: #FFFFFF;\n",
              "      --disabled-bg-color: #3B4455;\n",
              "      --disabled-fill-color: #666;\n",
              "  }\n",
              "\n",
              "  .colab-df-quickchart {\n",
              "    background-color: var(--bg-color);\n",
              "    border: none;\n",
              "    border-radius: 50%;\n",
              "    cursor: pointer;\n",
              "    display: none;\n",
              "    fill: var(--fill-color);\n",
              "    height: 32px;\n",
              "    padding: 0;\n",
              "    width: 32px;\n",
              "  }\n",
              "\n",
              "  .colab-df-quickchart:hover {\n",
              "    background-color: var(--hover-bg-color);\n",
              "    box-shadow: 0 1px 2px rgba(60, 64, 67, 0.3), 0 1px 3px 1px rgba(60, 64, 67, 0.15);\n",
              "    fill: var(--button-hover-fill-color);\n",
              "  }\n",
              "\n",
              "  .colab-df-quickchart-complete:disabled,\n",
              "  .colab-df-quickchart-complete:disabled:hover {\n",
              "    background-color: var(--disabled-bg-color);\n",
              "    fill: var(--disabled-fill-color);\n",
              "    box-shadow: none;\n",
              "  }\n",
              "\n",
              "  .colab-df-spinner {\n",
              "    border: 2px solid var(--fill-color);\n",
              "    border-color: transparent;\n",
              "    border-bottom-color: var(--fill-color);\n",
              "    animation:\n",
              "      spin 1s steps(1) infinite;\n",
              "  }\n",
              "\n",
              "  @keyframes spin {\n",
              "    0% {\n",
              "      border-color: transparent;\n",
              "      border-bottom-color: var(--fill-color);\n",
              "      border-left-color: var(--fill-color);\n",
              "    }\n",
              "    20% {\n",
              "      border-color: transparent;\n",
              "      border-left-color: var(--fill-color);\n",
              "      border-top-color: var(--fill-color);\n",
              "    }\n",
              "    30% {\n",
              "      border-color: transparent;\n",
              "      border-left-color: var(--fill-color);\n",
              "      border-top-color: var(--fill-color);\n",
              "      border-right-color: var(--fill-color);\n",
              "    }\n",
              "    40% {\n",
              "      border-color: transparent;\n",
              "      border-right-color: var(--fill-color);\n",
              "      border-top-color: var(--fill-color);\n",
              "    }\n",
              "    60% {\n",
              "      border-color: transparent;\n",
              "      border-right-color: var(--fill-color);\n",
              "    }\n",
              "    80% {\n",
              "      border-color: transparent;\n",
              "      border-right-color: var(--fill-color);\n",
              "      border-bottom-color: var(--fill-color);\n",
              "    }\n",
              "    90% {\n",
              "      border-color: transparent;\n",
              "      border-bottom-color: var(--fill-color);\n",
              "    }\n",
              "  }\n",
              "</style>\n",
              "\n",
              "  <script>\n",
              "    async function quickchart(key) {\n",
              "      const quickchartButtonEl =\n",
              "        document.querySelector('#' + key + ' button');\n",
              "      quickchartButtonEl.disabled = true;  // To prevent multiple clicks.\n",
              "      quickchartButtonEl.classList.add('colab-df-spinner');\n",
              "      try {\n",
              "        const charts = await google.colab.kernel.invokeFunction(\n",
              "            'suggestCharts', [key], {});\n",
              "      } catch (error) {\n",
              "        console.error('Error during call to suggestCharts:', error);\n",
              "      }\n",
              "      quickchartButtonEl.classList.remove('colab-df-spinner');\n",
              "      quickchartButtonEl.classList.add('colab-df-quickchart-complete');\n",
              "    }\n",
              "    (() => {\n",
              "      let quickchartButtonEl =\n",
              "        document.querySelector('#df-c7b420ac-7819-48b9-88bc-bbf3e1026292 button');\n",
              "      quickchartButtonEl.style.display =\n",
              "        google.colab.kernel.accessAllowed ? 'block' : 'none';\n",
              "    })();\n",
              "  </script>\n",
              "</div>\n",
              "\n",
              "    </div>\n",
              "  </div>\n"
            ],
            "application/vnd.google.colaboratory.intrinsic+json": {
              "type": "dataframe",
              "summary": "{\n  \"name\": \"data\",\n  \"rows\": 8,\n  \"fields\": [\n    {\n      \"column\": \"job_title\",\n      \"properties\": {\n        \"dtype\": \"number\",\n        \"std\": 413.24752897989123,\n        \"min\": 1.0,\n        \"max\": 1171.0,\n        \"num_unique_values\": 7,\n        \"samples\": [\n          1171.0,\n          2.1315115286080273,\n          3.0\n        ],\n        \"semantic_type\": \"\",\n        \"description\": \"\"\n      }\n    },\n    {\n      \"column\": \"job_type\",\n      \"properties\": {\n        \"dtype\": \"number\",\n        \"std\": 413.6476439092357,\n        \"min\": 0.1703537936627511,\n        \"max\": 1171.0,\n        \"num_unique_values\": 5,\n        \"samples\": [\n          1.0298889837745517,\n          2.0,\n          0.1703537936627511\n        ],\n        \"semantic_type\": \"\",\n        \"description\": \"\"\n      }\n    },\n    {\n      \"column\": \"experience_level\",\n      \"properties\": {\n        \"dtype\": \"number\",\n        \"std\": 413.44473326711557,\n        \"min\": 0.7295097579361264,\n        \"max\": 1171.0,\n        \"num_unique_values\": 6,\n        \"samples\": [\n          1171.0,\n          1.5089666951323655,\n          4.0\n        ],\n        \"semantic_type\": \"\",\n        \"description\": \"\"\n      }\n    },\n    {\n      \"column\": \"salary\",\n      \"properties\": {\n        \"dtype\": \"number\",\n        \"std\": 68986.89368263521,\n        \"min\": 1171.0,\n        \"max\": 228000.0,\n        \"num_unique_values\": 8,\n        \"samples\": [\n          64836.03757472246,\n          63000.0,\n          1171.0\n        ],\n        \"semantic_type\": \"\",\n        \"description\": \"\"\n      }\n    }\n  ]\n}"
            }
          },
          "metadata": {},
          "execution_count": 12
        }
      ],
      "source": [
        "\"\"\"\n",
        "  Al momento de usar la funcion describe se puede observar que\n",
        "  se puede obtener algunos de los valores como moda, media, mediana, etc\n",
        "  los cuales pueden ser unicamente obtenidos con variables numericas,\n",
        "  por eso se realizo la transformacion anterior, ya que si se continuaba\n",
        "  de esa manera no se iba a poder realizar dichos calculos.\n",
        "\"\"\"\n",
        "data.describe()"
      ]
    },
    {
      "cell_type": "markdown",
      "metadata": {
        "ExecuteTime": {
          "end_time": "2018-05-05T08:36:49.122754Z",
          "start_time": "2018-05-05T08:36:49.108512Z"
        },
        "id": "HhGOzZ5GDYfD"
      },
      "source": []
    },
    {
      "cell_type": "markdown",
      "metadata": {
        "id": "b-Kl-poMDYfD"
      },
      "source": [
        "## Visualización General"
      ]
    },
    {
      "cell_type": "code",
      "execution_count": null,
      "metadata": {
        "ExecuteTime": {
          "end_time": "2018-05-06T15:50:03.185268Z",
          "start_time": "2018-05-06T15:50:02.485816Z"
        },
        "colab": {
          "base_uri": "https://localhost:8080/",
          "height": 777
        },
        "id": "86GDWAnWDYfE",
        "outputId": "98e81d85-8a97-459f-b0c1-982a044cd479"
      },
      "outputs": [
        {
          "output_type": "display_data",
          "data": {
            "text/plain": [
              "<Figure size 1600x900 with 4 Axes>"
            ],
            "image/png": "[encoded data removed]"
          },
          "metadata": {}
        }
      ],
      "source": [
        "\"\"\"\n",
        "  Se visualiza de manera general algunas de las variables,\n",
        "  previamente transformadas, otro punto importante de realizar\n",
        "  dichas transformaciones era el poder visualizarlas mediante\n",
        "  gráficas, ya que en el parámetro incluye se le indica que se\n",
        "  presenten variables de tipo numéricas ya que si se trata de visualizar\n",
        "  variables categóricas se presenta inconvenientes al no poder\n",
        "  medir datos para poder presentarlos.\n",
        "\n",
        "\"\"\"\n",
        "data.select_dtypes(include=['int', 'float']).hist()\n",
        "plt.show()"
      ]
    },
    {
      "cell_type": "markdown",
      "metadata": {
        "id": "F-x9FOEJDYfE"
      },
      "source": [
        "\n",
        "\n"
      ]
    },
    {
      "cell_type": "code",
      "source": [
        "data['job_title'].value_counts()"
      ],
      "metadata": {
        "colab": {
          "base_uri": "https://localhost:8080/"
        },
        "id": "phj_ywz0Y8Bd",
        "outputId": "11e1a053-bd47-423c-e3c3-d24c740257f3"
      },
      "execution_count": null,
      "outputs": [
        {
          "output_type": "execute_result",
          "data": {
            "text/plain": [
              "job_title\n",
              "1    394\n",
              "2    368\n",
              "3    289\n",
              "4    101\n",
              "5     19\n",
              "Name: count, dtype: int64"
            ]
          },
          "metadata": {},
          "execution_count": 14
        }
      ]
    },
    {
      "cell_type": "code",
      "source": [
        "data['salary_currency'].value_counts()"
      ],
      "metadata": {
        "colab": {
          "base_uri": "https://localhost:8080/"
        },
        "id": "FdsbvIasZAnJ",
        "outputId": "8e4b3726-4729-48f9-d810-e64c96b836bc"
      },
      "execution_count": null,
      "outputs": [
        {
          "output_type": "execute_result",
          "data": {
            "text/plain": [
              "salary_currency\n",
              "USD    1157\n",
              "EUR       9\n",
              "GBP       5\n",
              "Name: count, dtype: int64"
            ]
          },
          "metadata": {},
          "execution_count": 15
        }
      ]
    },
    {
      "cell_type": "code",
      "execution_count": null,
      "metadata": {
        "ExecuteTime": {
          "end_time": "2018-05-06T15:28:50.505154Z",
          "start_time": "2018-05-06T15:28:50.130110Z"
        },
        "colab": {
          "base_uri": "https://localhost:8080/",
          "height": 753
        },
        "id": "XG0EtL4_DYfE",
        "outputId": "9d899390-f05b-46e8-edb3-742b2c79ba25"
      },
      "outputs": [
        {
          "output_type": "display_data",
          "data": {
            "text/plain": [
              "<Figure size 1600x900 with 1 Axes>"
            ],
            "image/png": "[encoded data removed]"
          },
          "metadata": {}
        }
      ],
      "source": [
        "#vamos a Visualizar los datos de entrada\n",
        "colores=['orange','blue']\n",
        "tamanios=[100,200] #Es el tamaño del grosor de los puntos de la grafica\n",
        "\n",
        "f1 = data['job_title'].values\n",
        "f2 = data['salary'].values\n",
        "\n",
        "asignar=[]\n",
        "for index, row in data.iterrows():\n",
        "    #En esta condicional se pintan los salarios que esten encima de la media\n",
        "    #de los salarios de un color y otro los que no esten\n",
        "    if(row['salary']>64000):\n",
        "        asignar.append(colores[0])\n",
        "    else:\n",
        "        asignar.append(colores[1])\n",
        "\n",
        "plt.scatter(f1, f2, c=asignar, s=tamanios[0])\n",
        "plt.show()"
      ]
    },
    {
      "cell_type": "markdown",
      "metadata": {
        "id": "Ok9wv3vLDYfF"
      },
      "source": [
        "## Visualizamos la Recta que obtuvimos"
      ]
    },
    {
      "cell_type": "code",
      "source": [
        "data['job_title'].value_counts()"
      ],
      "metadata": {
        "colab": {
          "base_uri": "https://localhost:8080/"
        },
        "id": "c-h1GvjWcSAX",
        "outputId": "aaf31be4-3209-4855-f6fb-b254c1472dcd"
      },
      "execution_count": null,
      "outputs": [
        {
          "output_type": "execute_result",
          "data": {
            "text/plain": [
              "job_title\n",
              "1    394\n",
              "2    368\n",
              "3    289\n",
              "4    101\n",
              "5     19\n",
              "Name: count, dtype: int64"
            ]
          },
          "metadata": {},
          "execution_count": 17
        }
      ]
    },
    {
      "cell_type": "code",
      "source": [
        "f1 = data['job_title'].values\n",
        "f2 = data['salary'].values"
      ],
      "metadata": {
        "id": "nCK-Kg0kcq1S"
      },
      "execution_count": null,
      "outputs": []
    },
    {
      "cell_type": "code",
      "execution_count": null,
      "metadata": {
        "ExecuteTime": {
          "end_time": "2018-05-06T15:28:51.432242Z",
          "start_time": "2018-05-06T15:28:51.060915Z"
        },
        "colab": {
          "base_uri": "https://localhost:8080/",
          "height": 753
        },
        "id": "-FMn8ZQTDYfF",
        "outputId": "8bba4394-f06e-4319-ec75-afc2d72a9692"
      },
      "outputs": [
        {
          "output_type": "display_data",
          "data": {
            "text/plain": [
              "<Figure size 1600x900 with 1 Axes>"
            ],
            "image/png": "[encoded data removed]"
          },
          "metadata": {}
        }
      ],
      "source": [
        "# Vamos a RECORTAR los datos en la zona donde se concentran más los puntos\n",
        "# en este caso se va a tomar la media de los dos variables a evaluar como\n",
        "# el sueldo y el titulo de trabajo para hacer la comparativa\n",
        "# en este caso se va a tomar en cuenta todos los trabajos, pero el sueldo\n",
        "# se lo va a tomar en la media del mismo y se lo almacena en la variable\n",
        "# filtered_data\n",
        "filtered_data = data[(data['job_title'] <= 5) & (data['salary'] <= 65000)]\n",
        "\n",
        "f1 = filtered_data['job_title'].values\n",
        "f2 = filtered_data['salary'].values\n",
        "\n",
        "\"\"\"\n",
        "  'Data scientist' : 1,\n",
        "  'Data analyst' : 2,\n",
        "  'Machine learning' : 3,\n",
        "  'Big data' : 4,\n",
        "  'ML Ops' : 5\n",
        "\"\"\"\n",
        "\n",
        "asignar=[]\n",
        "for index, row in filtered_data.iterrows():\n",
        "    #Se va a pintar los 3 primeros trabajos de un color\n",
        "    #y los dos ultimos de otro color\n",
        "    if(row['job_title']>3):\n",
        "        asignar.append(colores[0])\n",
        "    else:\n",
        "        asignar.append(colores[1])\n",
        "\n",
        "plt.scatter(f1, f2, c=asignar, s=tamanios[0])\n",
        "plt.show()"
      ]
    },
    {
      "cell_type": "markdown",
      "source": [
        "## Regresión Lineal Simple (1 variable)\n",
        "\n",
        "Vamos a intentar primero una Regresión Lineal con 1 sóla variable"
      ],
      "metadata": {
        "id": "SGrRmdtKnRn3"
      }
    },
    {
      "cell_type": "code",
      "source": [
        "# Asignamos nuestra variable de entrada X para entrenamiento y las etiquetas Y.\n",
        "dataX =filtered_data[[\"job_title\"]]\n",
        "X_train = np.array(dataX)\n",
        "y_train = filtered_data['salary'].values"
      ],
      "metadata": {
        "id": "ZXkAYlI3N7eO"
      },
      "execution_count": null,
      "outputs": []
    },
    {
      "cell_type": "code",
      "source": [
        "# Creamos el objeto de Regresión Linear\n",
        "regr = linear_model.LinearRegression()\n",
        "\n",
        "# Entrenamos nuestro modelo\n",
        "regr.fit(X_train, y_train)\n",
        "\n",
        "# Hacemos las predicciones que en definitiva una línea (en este caso, al ser 2D)\n",
        "y_pred = regr.predict(X_train)\n",
        "\n",
        "# Veamos los coeficienetes obtenidos, En nuestro caso, serán la Tangente\n",
        "print('Coefficients: \\n', regr.coef_)\n",
        "# Este es el valor donde corta el eje Y (en X=0)\n",
        "print('Independent term: \\n', regr.intercept_)\n",
        "# Error Cuadrado Medio\n",
        "print(\"Mean squared error: %.2f\" % mean_squared_error(y_train, y_pred))\n",
        "# Puntaje de Varianza. El mejor puntaje es un 1.0\n",
        "print('Variance score: %.2f' % r2_score(y_train, y_pred))"
      ],
      "metadata": {
        "colab": {
          "base_uri": "https://localhost:8080/"
        },
        "id": "jzLQC1agN9g4",
        "outputId": "62509003-b626-47eb-f756-f7393cfe45a5"
      },
      "execution_count": null,
      "outputs": [
        {
          "output_type": "stream",
          "name": "stdout",
          "text": [
            "Coefficients: \n",
            " [-65.43595005]\n",
            "Independent term: \n",
            " 47896.47996292956\n",
            "Mean squared error: 128887672.95\n",
            "Variance score: 0.00\n"
          ]
        }
      ]
    },
    {
      "cell_type": "markdown",
      "source": [
        "* Como se puede observar se tiene un valor de -65.43595005 en los coeficientes, en este caso se lo puede interpretar como que existen\n",
        "algunos trabajos mejor pagados que otros por eso existe cierta diferencia\n",
        "y esto va segun el cargo que ocupan ya que hay algunos trabajos que pagan mejor\n",
        "que otros.\n",
        "* En este caso el termino independiente es la suma de dinero que está representada en la variable de y_train, el valor de 47896, es el valor que indica que cuando un trabajo sea exigente que otro va a tender a ganar cerca de\n",
        "ese sueldo.\n",
        "* En este caso el valor de Mean squared error: 128887672.95, tiende a ser bastante alto y esto indica que el modelo no está haciendo bien sus predicciones ya que para identificar si un trabajo es mejor pagado que otro depende de muchas variables, como en qué empresa trabaja, de que trabaja, si es en sector público o privado, por ende, se puede deducir que no se obtiene una buena predicción debido a dichas características.\n",
        "* Finalmente se obtuvo el valor de Variance score: 0.00, el cual indica que el modelo no tiene variabilidad en sus datos ya que al momento del entrenamiento los datos fueron de un rango especifico y dicha configuración influyo en la salida de los datos."
      ],
      "metadata": {
        "id": "aSSyq_9khXwK"
      }
    },
    {
      "cell_type": "code",
      "execution_count": null,
      "metadata": {
        "ExecuteTime": {
          "end_time": "2018-05-06T15:28:50.963199Z",
          "start_time": "2018-05-06T15:28:50.509749Z"
        },
        "colab": {
          "base_uri": "https://localhost:8080/",
          "height": 801
        },
        "id": "rt6sM7-ODYfE",
        "outputId": "a687de00-2bac-45c2-edd8-5843f6b15386"
      },
      "outputs": [
        {
          "output_type": "display_data",
          "data": {
            "text/plain": [
              "<Figure size 1600x900 with 1 Axes>"
            ],
            "image/png": "[encoded data removed]"
          },
          "metadata": {}
        }
      ],
      "source": [
        "\"\"\"\n",
        "  Como se puede observar al momento de graficar la linea para ver\n",
        "  la varianza no se puede ver mayor novedad, ya que al momento de\n",
        "  entrenar el modelo se tomo una media de datos para poder hacer el\n",
        "  respectivo analisis y los valores estan igualos y por ende la variance\n",
        "  score no presenta mayores cambios en las variables ya que todo esta\n",
        "  balanceado.\n",
        "\"\"\"\n",
        "plt.scatter(X_train[:,0], y_train,  c=asignar, s=tamanios[0])\n",
        "plt.plot(X_train[:,0], y_pred, color='red', linewidth=3)\n",
        "\n",
        "plt.xlabel('Cantidad de Trabajos')\n",
        "plt.ylabel('Salario')\n",
        "plt.title('Regresión Lineal')\n",
        "\n",
        "plt.show()"
      ]
    },
    {
      "cell_type": "code",
      "execution_count": null,
      "metadata": {
        "ExecuteTime": {
          "end_time": "2018-05-06T15:28:51.024042Z",
          "start_time": "2018-05-06T15:28:50.967169Z"
        },
        "colab": {
          "base_uri": "https://localhost:8080/",
          "height": 300
        },
        "id": "TRW-nR45DYfF",
        "outputId": "5fc95226-fc1e-48fe-9aef-e6c4c4eaf2c7"
      },
      "outputs": [
        {
          "output_type": "execute_result",
          "data": {
            "text/plain": [
              "        job_title    job_type  experience_level        salary\n",
              "count  734.000000  734.000000        734.000000    734.000000\n",
              "mean     2.269755    1.042234          1.745232  47747.956403\n",
              "std      0.947884    0.201260          0.767127  11360.781486\n",
              "min      1.000000    1.000000          1.000000  30000.000000\n",
              "25%      2.000000    1.000000          1.000000  40000.000000\n",
              "50%      2.000000    1.000000          2.000000  45000.000000\n",
              "75%      3.000000    1.000000          2.000000  62000.000000\n",
              "max      5.000000    2.000000          4.000000  65000.000000"
            ],
            "text/html": [
              "\n",
              "  <div id=\"df-a6cf3b15-f906-4479-8a20-80dff84bd665\" class=\"colab-df-container\">\n",
              "    <div>\n",
              "<style scoped>\n",
              "    .dataframe tbody tr th:only-of-type {\n",
              "        vertical-align: middle;\n",
              "    }\n",
              "\n",
              "    .dataframe tbody tr th {\n",
              "        vertical-align: top;\n",
              "    }\n",
              "\n",
              "    .dataframe thead th {\n",
              "        text-align: right;\n",
              "    }\n",
              "</style>\n",
              "<table border=\"1\" class=\"dataframe\">\n",
              "  <thead>\n",
              "    <tr style=\"text-align: right;\">\n",
              "      <th></th>\n",
              "      <th>job_title</th>\n",
              "      <th>job_type</th>\n",
              "      <th>experience_level</th>\n",
              "      <th>salary</th>\n",
              "    </tr>\n",
              "  </thead>\n",
              "  <tbody>\n",
              "    <tr>\n",
              "      <th>count</th>\n",
              "      <td>734.000000</td>\n",
              "      <td>734.000000</td>\n",
              "      <td>734.000000</td>\n",
              "      <td>734.000000</td>\n",
              "    </tr>\n",
              "    <tr>\n",
              "      <th>mean</th>\n",
              "      <td>2.269755</td>\n",
              "      <td>1.042234</td>\n",
              "      <td>1.745232</td>\n",
              "      <td>47747.956403</td>\n",
              "    </tr>\n",
              "    <tr>\n",
              "      <th>std</th>\n",
              "      <td>0.947884</td>\n",
              "      <td>0.201260</td>\n",
              "      <td>0.767127</td>\n",
              "      <td>11360.781486</td>\n",
              "    </tr>\n",
              "    <tr>\n",
              "      <th>min</th>\n",
              "      <td>1.000000</td>\n",
              "      <td>1.000000</td>\n",
              "      <td>1.000000</td>\n",
              "      <td>30000.000000</td>\n",
              "    </tr>\n",
              "    <tr>\n",
              "      <th>25%</th>\n",
              "      <td>2.000000</td>\n",
              "      <td>1.000000</td>\n",
              "      <td>1.000000</td>\n",
              "      <td>40000.000000</td>\n",
              "    </tr>\n",
              "    <tr>\n",
              "      <th>50%</th>\n",
              "      <td>2.000000</td>\n",
              "      <td>1.000000</td>\n",
              "      <td>2.000000</td>\n",
              "      <td>45000.000000</td>\n",
              "    </tr>\n",
              "    <tr>\n",
              "      <th>75%</th>\n",
              "      <td>3.000000</td>\n",
              "      <td>1.000000</td>\n",
              "      <td>2.000000</td>\n",
              "      <td>62000.000000</td>\n",
              "    </tr>\n",
              "    <tr>\n",
              "      <th>max</th>\n",
              "      <td>5.000000</td>\n",
              "      <td>2.000000</td>\n",
              "      <td>4.000000</td>\n",
              "      <td>65000.000000</td>\n",
              "    </tr>\n",
              "  </tbody>\n",
              "</table>\n",
              "</div>\n",
              "    <div class=\"colab-df-buttons\">\n",
              "\n",
              "  <div class=\"colab-df-container\">\n",
              "    <button class=\"colab-df-convert\" onclick=\"convertToInteractive('df-a6cf3b15-f906-4479-8a20-80dff84bd665')\"\n",
              "            title=\"Convert this dataframe to an interactive table.\"\n",
              "            style=\"display:none;\">\n",
              "\n",
              "  <svg xmlns=\"http://www.w3.org/2000/svg\" height=\"24px\" viewBox=\"0 -960 960 960\">\n",
              "    <path d=\"M120-120v-720h720v720H120Zm60-500h600v-160H180v160Zm220 220h160v-160H400v160Zm0 220h160v-160H400v160ZM180-400h160v-160H180v160Zm440 0h160v-160H620v160ZM180-180h160v-160H180v160Zm440 0h160v-160H620v160Z\"/>\n",
              "  </svg>\n",
              "    </button>\n",
              "\n",
              "  <style>\n",
              "    .colab-df-container {\n",
              "      display:flex;\n",
              "      gap: 12px;\n",
              "    }\n",
              "\n",
              "    .colab-df-convert {\n",
              "      background-color: #E8F0FE;\n",
              "      border: none;\n",
              "      border-radius: 50%;\n",
              "      cursor: pointer;\n",
              "      display: none;\n",
              "      fill: #1967D2;\n",
              "      height: 32px;\n",
              "      padding: 0 0 0 0;\n",
              "      width: 32px;\n",
              "    }\n",
              "\n",
              "    .colab-df-convert:hover {\n",
              "      background-color: #E2EBFA;\n",
              "      box-shadow: 0px 1px 2px rgba(60, 64, 67, 0.3), 0px 1px 3px 1px rgba(60, 64, 67, 0.15);\n",
              "      fill: #174EA6;\n",
              "    }\n",
              "\n",
              "    .colab-df-buttons div {\n",
              "      margin-bottom: 4px;\n",
              "    }\n",
              "\n",
              "    [theme=dark] .colab-df-convert {\n",
              "      background-color: #3B4455;\n",
              "      fill: #D2E3FC;\n",
              "    }\n",
              "\n",
              "    [theme=dark] .colab-df-convert:hover {\n",
              "      background-color: #434B5C;\n",
              "      box-shadow: 0px 1px 3px 1px rgba(0, 0, 0, 0.15);\n",
              "      filter: drop-shadow(0px 1px 2px rgba(0, 0, 0, 0.3));\n",
              "      fill: #FFFFFF;\n",
              "    }\n",
              "  </style>\n",
              "\n",
              "    <script>\n",
              "      const buttonEl =\n",
              "        document.querySelector('#df-a6cf3b15-f906-4479-8a20-80dff84bd665 button.colab-df-convert');\n",
              "      buttonEl.style.display =\n",
              "        google.colab.kernel.accessAllowed ? 'block' : 'none';\n",
              "\n",
              "      async function convertToInteractive(key) {\n",
              "        const element = document.querySelector('#df-a6cf3b15-f906-4479-8a20-80dff84bd665');\n",
              "        const dataTable =\n",
              "          await google.colab.kernel.invokeFunction('convertToInteractive',\n",
              "                                                    [key], {});\n",
              "        if (!dataTable) return;\n",
              "\n",
              "        const docLinkHtml = 'Like what you see? Visit the ' +\n",
              "          '<a target=\"_blank\" href=https://colab.research.google.com/notebooks/data_table.ipynb>data table notebook</a>'\n",
              "          + ' to learn more about interactive tables.';\n",
              "        element.innerHTML = '';\n",
              "        dataTable['output_type'] = 'display_data';\n",
              "        await google.colab.output.renderOutput(dataTable, element);\n",
              "        const docLink = document.createElement('div');\n",
              "        docLink.innerHTML = docLinkHtml;\n",
              "        element.appendChild(docLink);\n",
              "      }\n",
              "    </script>\n",
              "  </div>\n",
              "\n",
              "\n",
              "<div id=\"df-b7d79aa8-2085-450c-be26-ccf920f5af98\">\n",
              "  <button class=\"colab-df-quickchart\" onclick=\"quickchart('df-b7d79aa8-2085-450c-be26-ccf920f5af98')\"\n",
              "            title=\"Suggest charts\"\n",
              "            style=\"display:none;\">\n",
              "\n",
              "<svg xmlns=\"http://www.w3.org/2000/svg\" height=\"24px\"viewBox=\"0 0 24 24\"\n",
              "     width=\"24px\">\n",
              "    <g>\n",
              "        <path d=\"M19 3H5c-1.1 0-2 .9-2 2v14c0 1.1.9 2 2 2h14c1.1 0 2-.9 2-2V5c0-1.1-.9-2-2-2zM9 17H7v-7h2v7zm4 0h-2V7h2v10zm4 0h-2v-4h2v4z\"/>\n",
              "    </g>\n",
              "</svg>\n",
              "  </button>\n",
              "\n",
              "<style>\n",
              "  .colab-df-quickchart {\n",
              "      --bg-color: #E8F0FE;\n",
              "      --fill-color: #1967D2;\n",
              "      --hover-bg-color: #E2EBFA;\n",
              "      --hover-fill-color: #174EA6;\n",
              "      --disabled-fill-color: #AAA;\n",
              "      --disabled-bg-color: #DDD;\n",
              "  }\n",
              "\n",
              "  [theme=dark] .colab-df-quickchart {\n",
              "      --bg-color: #3B4455;\n",
              "      --fill-color: #D2E3FC;\n",
              "      --hover-bg-color: #434B5C;\n",
              "      --hover-fill-color: #FFFFFF;\n",
              "      --disabled-bg-color: #3B4455;\n",
              "      --disabled-fill-color: #666;\n",
              "  }\n",
              "\n",
              "  .colab-df-quickchart {\n",
              "    background-color: var(--bg-color);\n",
              "    border: none;\n",
              "    border-radius: 50%;\n",
              "    cursor: pointer;\n",
              "    display: none;\n",
              "    fill: var(--fill-color);\n",
              "    height: 32px;\n",
              "    padding: 0;\n",
              "    width: 32px;\n",
              "  }\n",
              "\n",
              "  .colab-df-quickchart:hover {\n",
              "    background-color: var(--hover-bg-color);\n",
              "    box-shadow: 0 1px 2px rgba(60, 64, 67, 0.3), 0 1px 3px 1px rgba(60, 64, 67, 0.15);\n",
              "    fill: var(--button-hover-fill-color);\n",
              "  }\n",
              "\n",
              "  .colab-df-quickchart-complete:disabled,\n",
              "  .colab-df-quickchart-complete:disabled:hover {\n",
              "    background-color: var(--disabled-bg-color);\n",
              "    fill: var(--disabled-fill-color);\n",
              "    box-shadow: none;\n",
              "  }\n",
              "\n",
              "  .colab-df-spinner {\n",
              "    border: 2px solid var(--fill-color);\n",
              "    border-color: transparent;\n",
              "    border-bottom-color: var(--fill-color);\n",
              "    animation:\n",
              "      spin 1s steps(1) infinite;\n",
              "  }\n",
              "\n",
              "  @keyframes spin {\n",
              "    0% {\n",
              "      border-color: transparent;\n",
              "      border-bottom-color: var(--fill-color);\n",
              "      border-left-color: var(--fill-color);\n",
              "    }\n",
              "    20% {\n",
              "      border-color: transparent;\n",
              "      border-left-color: var(--fill-color);\n",
              "      border-top-color: var(--fill-color);\n",
              "    }\n",
              "    30% {\n",
              "      border-color: transparent;\n",
              "      border-left-color: var(--fill-color);\n",
              "      border-top-color: var(--fill-color);\n",
              "      border-right-color: var(--fill-color);\n",
              "    }\n",
              "    40% {\n",
              "      border-color: transparent;\n",
              "      border-right-color: var(--fill-color);\n",
              "      border-top-color: var(--fill-color);\n",
              "    }\n",
              "    60% {\n",
              "      border-color: transparent;\n",
              "      border-right-color: var(--fill-color);\n",
              "    }\n",
              "    80% {\n",
              "      border-color: transparent;\n",
              "      border-right-color: var(--fill-color);\n",
              "      border-bottom-color: var(--fill-color);\n",
              "    }\n",
              "    90% {\n",
              "      border-color: transparent;\n",
              "      border-bottom-color: var(--fill-color);\n",
              "    }\n",
              "  }\n",
              "</style>\n",
              "\n",
              "  <script>\n",
              "    async function quickchart(key) {\n",
              "      const quickchartButtonEl =\n",
              "        document.querySelector('#' + key + ' button');\n",
              "      quickchartButtonEl.disabled = true;  // To prevent multiple clicks.\n",
              "      quickchartButtonEl.classList.add('colab-df-spinner');\n",
              "      try {\n",
              "        const charts = await google.colab.kernel.invokeFunction(\n",
              "            'suggestCharts', [key], {});\n",
              "      } catch (error) {\n",
              "        console.error('Error during call to suggestCharts:', error);\n",
              "      }\n",
              "      quickchartButtonEl.classList.remove('colab-df-spinner');\n",
              "      quickchartButtonEl.classList.add('colab-df-quickchart-complete');\n",
              "    }\n",
              "    (() => {\n",
              "      let quickchartButtonEl =\n",
              "        document.querySelector('#df-b7d79aa8-2085-450c-be26-ccf920f5af98 button');\n",
              "      quickchartButtonEl.style.display =\n",
              "        google.colab.kernel.accessAllowed ? 'block' : 'none';\n",
              "    })();\n",
              "  </script>\n",
              "</div>\n",
              "\n",
              "    </div>\n",
              "  </div>\n"
            ],
            "application/vnd.google.colaboratory.intrinsic+json": {
              "type": "dataframe",
              "summary": "{\n  \"name\": \"filtered_data\",\n  \"rows\": 8,\n  \"fields\": [\n    {\n      \"column\": \"job_title\",\n      \"properties\": {\n        \"dtype\": \"number\",\n        \"std\": 258.69224327576876,\n        \"min\": 0.9478838036000508,\n        \"max\": 734.0,\n        \"num_unique_values\": 7,\n        \"samples\": [\n          734.0,\n          2.2697547683923704,\n          3.0\n        ],\n        \"semantic_type\": \"\",\n        \"description\": \"\"\n      }\n    },\n    {\n      \"column\": \"job_type\",\n      \"properties\": {\n        \"dtype\": \"number\",\n        \"std\": 259.14278660173716,\n        \"min\": 0.20126047444570522,\n        \"max\": 734.0,\n        \"num_unique_values\": 5,\n        \"samples\": [\n          1.042234332425068,\n          2.0,\n          0.20126047444570522\n        ],\n        \"semantic_type\": \"\",\n        \"description\": \"\"\n      }\n    },\n    {\n      \"column\": \"experience_level\",\n      \"properties\": {\n        \"dtype\": \"number\",\n        \"std\": 258.8782247309346,\n        \"min\": 0.7671266978592843,\n        \"max\": 734.0,\n        \"num_unique_values\": 6,\n        \"samples\": [\n          734.0,\n          1.7452316076294279,\n          4.0\n        ],\n        \"semantic_type\": \"\",\n        \"description\": \"\"\n      }\n    },\n    {\n      \"column\": \"salary\",\n      \"properties\": {\n        \"dtype\": \"number\",\n        \"std\": 22724.573390868565,\n        \"min\": 734.0,\n        \"max\": 65000.0,\n        \"num_unique_values\": 8,\n        \"samples\": [\n          47747.95640326975,\n          45000.0,\n          734.0\n        ],\n        \"semantic_type\": \"\",\n        \"description\": \"\"\n      }\n    }\n  ]\n}"
            }
          },
          "metadata": {},
          "execution_count": 23
        }
      ],
      "source": [
        "# Veamos como cambian los valores una vez filtrados\n",
        "filtered_data.describe()"
      ]
    },
    {
      "cell_type": "markdown",
      "metadata": {
        "id": "034RPAVEDYfG"
      },
      "source": [
        "### Predicción 1"
      ]
    },
    {
      "cell_type": "code",
      "execution_count": null,
      "metadata": {
        "ExecuteTime": {
          "end_time": "2018-05-06T15:28:51.440993Z",
          "start_time": "2018-05-06T15:28:51.435404Z"
        },
        "colab": {
          "base_uri": "https://localhost:8080/"
        },
        "id": "ULb_C1e_DYfG",
        "outputId": "efee7456-b12c-4f01-f153-46644103fe10"
      },
      "outputs": [
        {
          "output_type": "stream",
          "name": "stdout",
          "text": [
            "15178\n"
          ]
        },
        {
          "output_type": "stream",
          "name": "stderr",
          "text": [
            "<ipython-input-45-133b3c26b58e>:2: DeprecationWarning: Conversion of an array with ndim > 0 to a scalar is deprecated, and will error in future. Ensure you extract a single element from your array before performing this operation. (Deprecated NumPy 1.25.)\n",
            "  print(int(y_Dosmil))\n"
          ]
        }
      ],
      "source": [
        "y_Dosmil = regr.predict([[500]])\n",
        "print(int(y_Dosmil))"
      ]
    },
    {
      "cell_type": "markdown",
      "metadata": {
        "ExecuteTime": {
          "end_time": "2018-05-06T09:54:24.557815Z",
          "start_time": "2018-05-06T09:54:24.544488Z"
        },
        "id": "f7MyDQtjDYfG"
      },
      "source": [
        "Se realizo una predicción con el modelo entrenado donde se le indica\n",
        "que cuantas personas ganan más que 500 dólares y el algoritmo nos arroja\n",
        "que alrededor de 15178 personas ganan más que ese sueldo.\n"
      ]
    },
    {
      "cell_type": "code",
      "source": [
        "y_Dosmil = regr.predict([[70000]])\n",
        "print(int(y_Dosmil))"
      ],
      "metadata": {
        "colab": {
          "base_uri": "https://localhost:8080/"
        },
        "id": "2mM2Wtmdq611",
        "outputId": "37d9259d-290d-47da-a800-3c42f4974d0e"
      },
      "execution_count": null,
      "outputs": [
        {
          "output_type": "stream",
          "name": "stdout",
          "text": [
            "-4532620\n"
          ]
        },
        {
          "output_type": "stream",
          "name": "stderr",
          "text": [
            "<ipython-input-46-bea978fa302a>:2: DeprecationWarning: Conversion of an array with ndim > 0 to a scalar is deprecated, and will error in future. Ensure you extract a single element from your array before performing this operation. (Deprecated NumPy 1.25.)\n",
            "  print(int(y_Dosmil))\n"
          ]
        }
      ]
    },
    {
      "cell_type": "markdown",
      "source": [
        "En este caso si se le predice sobre cuantas personas ganan más de $70.000\n",
        "\n",
        "se puede ver un evidente error ya que el algoritmo no tiene sueldos sobre $65000 y por ende da errores negativos que no concuerdan con los valores reales"
      ],
      "metadata": {
        "id": "O3JY3Vkwq9VV"
      }
    }
  ],
  "metadata": {
    "kernelspec": {
      "display_name": "Python 3",
      "language": "python",
      "name": "python3"
    },
    "language_info": {
      "codemirror_mode": {
        "name": "ipython",
        "version": 3
      },
      "file_extension": ".py",
      "mimetype": "text/x-python",
      "name": "python",
      "nbconvert_exporter": "python",
      "pygments_lexer": "ipython3",
      "version": "3.6.5"
    },
    "colab": {
      "provenance": [],
      "toc_visible": true
    }
  },
  "nbformat": 4,
  "nbformat_minor": 0
}