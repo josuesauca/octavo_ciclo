{
  "nbformat": 4,
  "nbformat_minor": 0,
  "metadata": {
    "colab": {
      "provenance": []
    },
    "kernelspec": {
      "name": "python3",
      "display_name": "Python 3"
    },
    "language_info": {
      "name": "python"
    }
  },
  "cells": [
    {
      "cell_type": "markdown",
      "source": [
        "## Tema: Generación de texto con redes nueornales recurrentes:\n",
        "\n",
        "## Objetivos:\n",
        "  \n",
        "  * Comprender como funcionan las redes RNN\n",
        "  * Comprender como se genera el texto\n",
        "\n",
        "## Instrucciones 👍\n",
        "\n",
        "Ejecutar el siguiente código: puede encontrarlo en su versión original en el enlace https://pytorch.org/tutorials/intermediate/char_rnn_generation_tutorial.html\n",
        "PNL desde cero: Generación de nombres con una RNN a nivel de caracteres Autor: Sean Robertson\n",
        "\n",
        "Este es nuestro segundo de tres tutoriales sobre \"NLP From Scratch\". En el primer tutorial </intermediate/char_rnn_classification_tutorial> utilizamos una RNN para clasificar nombres en su idioma de origen. En esta ocasión daremos la vuelta y generaremos nombres a partir de idiomas.\n",
        "\n",
        "::\n",
        "> python sample.py Russian RUS\n",
        "Rovakov\n",
        "Uantov\n",
        "Shavakov\n",
        "\n",
        "> python sample.py Alemán GER\n",
        "Gerren\n",
        "Ereng\n",
        "Rosher\n",
        "\n",
        "> python sample.py Español SPA\n",
        "Salla\n",
        "Parer\n",
        "Allan\n",
        "\n",
        "> python sample.py Chino CHI\n",
        "Chan\n",
        "Hang\n",
        "Iun\n",
        "Todavía estamos creando a mano una pequeña RNN con unas pocas capas lineales. La gran diferencia es que, en lugar de predecir una categoría tras leer todas las letras de un nombre, introducimos una categoría y emitimos una letra cada vez. La predicción recurrente de caracteres para formar un lenguaje (también podría hacerse con palabras u otras construcciones de orden superior) suele denominarse \"modelo de lenguaje\".\n",
        "\n",
        "**Lecturas recomendadas\n",
        "Asumo que al menos ha instalado PyTorch, sabe Python, y entender Tensores:\n",
        "https://pytorch.org/ Para instrucciones de instalación\n",
        ":doc:/beginner/deep_learning_60min_blitz para empezar con PyTorch en general\n",
        ":doc:/beginner/pytorch_with_examples para una visión amplia y profunda\n",
        ":doc:/beginner/former_torchies_tutorial si eres un antiguo usuario de Lua Torch\n",
        "También sería útil saber sobre RNNs y cómo funcionan:\n",
        "La irrazonable eficacia de las redes neuronales recurrentes_ muestra un montón de ejemplos de la vida real\n",
        "Entender las redes LSTM Networks](https://colah.github.io/posts/2015-08-Understanding-LSTMs/)_ trata específicamente de las LSTM, pero también ofrece información sobre las RNN en general. en general\n",
        "También sugiero el tutorial anterior, :doc:/intermediate/char_rnn_classification_tutorial\n",
        "\n",
        "## Preparando los Datos\n",
        "\n",
        ".. Nota:: Descargue los datos de aquí y extráelos al directorio actual.\n",
        "\n",
        "Ver el último tutorial para más detalles de este proceso. En resumen hay un montón de archivos de texto plano data/names/[Language].txt con un nombre por línea. Dividimos las líneas en un array, convertimos Unicode a ASCII y terminamos con un diccionario {idioma: [nombres ...]}.\n",
        "\n"
      ],
      "metadata": {
        "id": "Et9SdoVAlu20"
      }
    },
    {
      "cell_type": "code",
      "source": [
        "from __future__ import unicode_literals, print_function, division\n",
        "from io import open\n",
        "import glob\n",
        "import os\n",
        "import unicodedata\n",
        "import string\n",
        "\n",
        "\n",
        "all_letters = string.ascii_letters + \" .,;'-\"\n",
        "n_letters = len(all_letters) + 1 # Plus EOS marker\n",
        "\n",
        "def findFiles(path):\n",
        "  return glob.glob(path)\n",
        "\n",
        "\n",
        "# Turn a Unicode string to plain ASCII, thanks to https://stackoverflow.com/a/518232/2809427\n",
        "def unicodeToAscii(s):\n",
        "    return ''.join(\n",
        "        c for c in unicodedata.normalize('NFD', s)\n",
        "        if unicodedata.category(c) != 'Mn' and c in all_letters\n",
        "    )\n",
        "\n",
        "# Read a file and split into lines\n",
        "def readLines(filename):\n",
        "    with open(filename, encoding='utf-8') as some_file:\n",
        "        return [unicodeToAscii(line.strip()) for line in some_file]\n",
        "\n",
        "\n",
        "\n",
        "# Build the category_lines dictionary, a list of lines per category\n",
        "category_lines = {}\n",
        "all_categories = []\n",
        "for filename in findFiles('data/names/*.txt'):\n",
        "    category = os.path.splitext(os.path.basename(filename))[0]\n",
        "    all_categories.append(category)\n",
        "    lines = readLines(filename)\n",
        "    category_lines[category] = lines\n",
        "\n",
        "\n",
        "n_categories = len(all_categories)\n",
        "\n",
        "if n_categories == 0:\n",
        "    raise RuntimeError('Data not found. Make sure that you downloaded data '\n",
        "        'from https://download.pytorch.org/tutorial/data.zip and extract it to '\n",
        "        'the current directory.')\n",
        "\n",
        "\n",
        "print('# categories:', n_categories, all_categories)\n",
        "print(unicodeToAscii(\"O'Néàl\"))\n"
      ],
      "metadata": {
        "colab": {
          "base_uri": "https://localhost:8080/"
        },
        "id": "qfTwjEhruts3",
        "outputId": "0ef885bc-66d6-4006-96fe-9c2f14ce0565"
      },
      "execution_count": 16,
      "outputs": [
        {
          "output_type": "stream",
          "name": "stdout",
          "text": [
            "# categories: 18 ['Arabic', 'Chinese', 'Italian', 'Portuguese', 'Greek', 'Japanese', 'English', 'Czech', 'Scottish', 'Spanish', 'Russian', 'Dutch', 'Irish', 'Korean', 'French', 'German', 'Vietnamese', 'Polish']\n",
            "O'Neal\n"
          ]
        }
      ]
    },
    {
      "cell_type": "markdown",
      "source": [
        "## Creación de la red\n",
        "\n",
        "Esta red extiende la RNN del último tutorial_ con un argumento extra para el tensor de categoría, que se concatena junto con los demás. El tensor de categoría es un vector de un solo golpe igual que la entrada de letras.\n",
        "Interpretaremos la salida como la probabilidad de la siguiente letra. En muestreo, la letra de salida más probable se utiliza como la siguiente letra de letra.\n",
        "He añadido una segunda capa lineal o2o (después de combinar oculta y salida) para darle más músculo para trabajar. También hay una capa que aleatoriamente ceros partes de su entrada_ con una probabilidad dada (en este caso 0,1) y se suele utilizar para desdibujar las entradas y evitar el sobreajuste. Aquí lo estamos utilizando hacia el final de la red para añadir a propósito algunos caos y aumentar la variedad de muestreo.\n",
        "\n",
        "![image.png](data:image/png;base64,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)"
      ],
      "metadata": {
        "id": "brRfxxHhxDjX"
      }
    },
    {
      "cell_type": "code",
      "source": [
        "import torch\n",
        "import torch.nn as nn\n",
        "\n",
        "class RNN(nn.Module):\n",
        "    def __init__(self, input_size, hidden_size, output_size):\n",
        "        super(RNN, self).__init__()\n",
        "        self.hidden_size = hidden_size\n",
        "\n",
        "\n",
        "        self.i2h = nn.Linear(n_categories + input_size + hidden_size, hidden_size)\n",
        "        self.i2o = nn.Linear(n_categories + input_size + hidden_size, output_size)\n",
        "        self.o2o = nn.Linear(hidden_size + output_size, output_size)\n",
        "        self.dropout = nn.Dropout(0.1)\n",
        "        self.softmax = nn.LogSoftmax(dim=1)\n",
        "\n",
        "\n",
        "    def forward(self, category, input, hidden):\n",
        "        input_combined = torch.cat((category, input, hidden), 1)\n",
        "        hidden = self.i2h(input_combined)\n",
        "        output = self.i2o(input_combined)\n",
        "        output_combined = torch.cat((hidden, output), 1)\n",
        "        output = self.o2o(output_combined)\n",
        "        output = self.dropout(output)\n",
        "        output = self.softmax(output)\n",
        "        return output, hidden\n",
        "\n",
        "\n",
        "    def initHidden(self):\n",
        "        return torch.zeros(1, self.hidden_size)"
      ],
      "metadata": {
        "id": "dUKWGfjixFR4"
      },
      "execution_count": 12,
      "outputs": []
    },
    {
      "cell_type": "markdown",
      "source": [
        "## Entrenamiento\n",
        "\n",
        "## Preparación para el entrenamiento\n",
        "\n",
        "En primer lugar, funciones de ayuda para obtener pares aleatorios de (categoría, línea):\n"
      ],
      "metadata": {
        "id": "79mrC9sLxxjL"
      }
    },
    {
      "cell_type": "code",
      "source": [
        "import random\n",
        "\n",
        "# Random item from a list\n",
        "def randomChoice(l):\n",
        "    return l[random.randint(0, len(l) - 1)]\n",
        "\n",
        "# Get a random category and random line from that category\n",
        "def randomTrainingPair():\n",
        "    category = randomChoice(all_categories)\n",
        "    line = randomChoice(category_lines[category])\n",
        "    return category, line"
      ],
      "metadata": {
        "id": "v-FI1orTx1n7"
      },
      "execution_count": 15,
      "outputs": []
    },
    {
      "cell_type": "markdown",
      "source": [
        "Para cada paso de tiempo (es decir, para cada letra de una palabra de entrenamiento) las entradas de la red serán (categoría, letra actual, estado oculto) y las salidas serán (siguiente letra, siguiente estado oculto). Así que para cada conjunto de entrenamiento, necesitaremos categoría, un conjunto de letras de entrada y un conjunto de letras de salida/objetivo. de salida.\n",
        "Como estamos prediciendo la siguiente letra a partir de la letra actual para cada los pares de letras son grupos de letras consecutivas de la línea. ejemplo, para \"ABCD<EOS>\" crearíamos (\"A\", \"B\"), (\"B\", \"C\"), (\"C\", \"D\"), (\"D\", \"EOS\").\n",
        "\n",
        "![image.png](data:image/png;base64,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)\n",
        "\n",
        "figura:: https://i.imgur.com/JH58tXY.png :alt:\n",
        "El tensor de categorías es un one-hot tensor_ de tamaño <1 x n_categorías>. Durante el entrenamiento, lo introducimos en la red en cada paso de tiempo. es una elección de diseño, podría haber sido incluido como parte del estado oculto inicial o alguna otra estrategia. de estado oculto inicial o alguna otra estrategia."
      ],
      "metadata": {
        "id": "Nw32hg5qx37O"
      }
    },
    {
      "cell_type": "code",
      "source": [
        "# One-hot vector for category\n",
        "def categoryTensor(category):\n",
        "    li = all_categories.index(category)\n",
        "    tensor = torch.zeros(1, n_categories)\n",
        "    tensor[0][li] = 1\n",
        "    return tensor\n",
        "\n",
        "# One-hot matrix of first to last letters (not including EOS) for input\n",
        "def inputTensor(line):\n",
        "    tensor = torch.zeros(len(line), 1, n_letters)\n",
        "    for li in range(len(line)):\n",
        "        letter = line[li]\n",
        "        tensor[li][0][all_letters.find(letter)] = 1\n",
        "    return tensor\n",
        "\n",
        "# ``LongTensor`` of second letter to end (EOS) for target\n",
        "def targetTensor(line):\n",
        "    letter_indexes = [all_letters.find(line[li]) for li in range(1, len(line))]\n",
        "    letter_indexes.append(n_letters - 1) # EOS\n",
        "    return torch.LongTensor(letter_indexes)"
      ],
      "metadata": {
        "id": "AP3gBqMCx6XP"
      },
      "execution_count": 14,
      "outputs": []
    },
    {
      "cell_type": "markdown",
      "source": [
        "Para mayor comodidad durante el entrenamiento crearemos una función randomTrainingExample que obtiene un par aleatorio (categoría, línea) y los convierte en los tensores requeridos (categoría, entrada, objetivo)."
      ],
      "metadata": {
        "id": "q4xZOQ2MyOos"
      }
    },
    {
      "cell_type": "code",
      "source": [
        "# Make category, input, and target tensors from a random category, line pair\n",
        "def randomTrainingExample():\n",
        "    category, line = randomTrainingPair()\n",
        "    category_tensor = categoryTensor(category)\n",
        "    input_line_tensor = inputTensor(line)\n",
        "    target_line_tensor = targetTensor(line)\n",
        "    return category_tensor, input_line_tensor, target_line_tensor"
      ],
      "metadata": {
        "id": "xN7ENtmlyRpq"
      },
      "execution_count": 17,
      "outputs": []
    },
    {
      "cell_type": "markdown",
      "source": [
        "##Entrenamiento de la red\n",
        "A diferencia de la clasificación, en la que sólo se utiliza el último resultado, nosotros estamos haciendo una predicción en cada paso, por lo que estamos calculando la pérdida en en cada paso.\n",
        "La magia de autograd le permite simplemente sumar estas pérdidas en cada paso y llamar hacia atrás al final.\n"
      ],
      "metadata": {
        "id": "3akNou-IyT-0"
      }
    },
    {
      "cell_type": "code",
      "source": [
        "criterion = nn.NLLLoss()\n",
        "\n",
        "learning_rate = 0.0005\n",
        "\n",
        "def train(category_tensor, input_line_tensor, target_line_tensor):\n",
        "    target_line_tensor.unsqueeze_(-1)\n",
        "    hidden = rnn.initHidden()\n",
        "\n",
        "    rnn.zero_grad()\n",
        "\n",
        "    loss = 0\n",
        "    for i in range(input_line_tensor.size(0)):\n",
        "        output, hidden = rnn(category_tensor, input_line_tensor[i], hidden)\n",
        "        l = criterion(output, target_line_tensor[i])\n",
        "        loss += l\n",
        "\n",
        "\n",
        "    loss.backward()\n",
        "\n",
        "\n",
        "    for p in rnn.parameters():\n",
        "        p.data.add_(p.grad.data, alpha=-learning_rate)\n",
        "\n",
        "\n",
        "    return output, loss.item() / input_line_tensor.size(0)"
      ],
      "metadata": {
        "id": "dkHKMuUnyVT9"
      },
      "execution_count": 20,
      "outputs": []
    },
    {
      "cell_type": "markdown",
      "source": [
        "Para llevar la cuenta de cuánto tiempo lleva el entrenamiento añado una función timeSince(timestamp) que devuelve una cadena legible por humanos:"
      ],
      "metadata": {
        "id": "1euhe6xpyb2v"
      }
    },
    {
      "cell_type": "code",
      "source": [
        "\n",
        "import time\n",
        "import math\n",
        "\n",
        "def timeSince(since):\n",
        "    now = time.time()\n",
        "    s = now - since\n",
        "    m = math.floor(s / 60)\n",
        "    s -= m * 60\n",
        "    return '%dm %ds' % (m, s)"
      ],
      "metadata": {
        "id": "5bG9RddDye4T"
      },
      "execution_count": 21,
      "outputs": []
    },
    {
      "cell_type": "markdown",
      "source": [
        "El entrenamiento es como de costumbre - llamar a entrenar un montón de veces y esperar un minutos, imprimiendo el tiempo actual y la pérdida cada print_every ejemplos ejemplos, y mantener la tienda de una pérdida media por plot_every ejemplos en all_losses para graficar más tarde."
      ],
      "metadata": {
        "id": "i3KheUfeylTb"
      }
    },
    {
      "cell_type": "code",
      "source": [
        "rnn = RNN(n_letters, 128, n_letters)\n",
        "\n",
        "n_iters = 100000\n",
        "print_every = 5000\n",
        "plot_every = 500\n",
        "all_losses = []\n",
        "total_loss = 0 # Reset every ``plot_every`` ``iters``\n",
        "\n",
        "start = time.time()\n",
        "\n",
        "for iter in range(1, n_iters + 1):\n",
        "    output, loss = train(*randomTrainingExample())\n",
        "    total_loss += loss\n",
        "\n",
        "\n",
        "    if iter % print_every == 0:\n",
        "        print('%s (%d %d%%) %.4f' % (timeSince(start), iter, iter / n_iters * 100, loss))\n",
        "\n",
        "\n",
        "    if iter % plot_every == 0:\n",
        "        all_losses.append(total_loss / plot_every)\n",
        "        total_loss = 0"
      ],
      "metadata": {
        "colab": {
          "base_uri": "https://localhost:8080/"
        },
        "id": "pZA2FnYYyl4b",
        "outputId": "24d426c4-0536-4722-b1bc-5ed0519e6f81"
      },
      "execution_count": 23,
      "outputs": [
        {
          "output_type": "stream",
          "name": "stdout",
          "text": [
            "0m 10s (5000 5%) 2.9116\n",
            "0m 21s (10000 10%) 2.2918\n",
            "0m 31s (15000 15%) 2.2977\n",
            "0m 45s (20000 20%) 2.2782\n",
            "0m 56s (25000 25%) 2.6943\n",
            "1m 6s (30000 30%) 2.4022\n",
            "1m 16s (35000 35%) 2.2754\n",
            "1m 26s (40000 40%) 2.3786\n",
            "1m 36s (45000 45%) 1.9381\n",
            "1m 46s (50000 50%) 3.0410\n",
            "1m 57s (55000 55%) 2.3949\n",
            "2m 9s (60000 60%) 3.4490\n",
            "2m 19s (65000 65%) 1.9955\n",
            "2m 28s (70000 70%) 3.4204\n",
            "2m 39s (75000 75%) 2.2741\n",
            "2m 49s (80000 80%) 2.0287\n",
            "2m 59s (85000 85%) 3.5137\n",
            "3m 9s (90000 90%) 2.3017\n",
            "3m 18s (95000 95%) 2.0455\n",
            "3m 28s (100000 100%) 3.2014\n"
          ]
        }
      ]
    },
    {
      "cell_type": "markdown",
      "source": [
        "## Graficar las pérdidas\n",
        "Graficar la pérdida histórica de all_losses muestra que la red aprendiendo:\n"
      ],
      "metadata": {
        "id": "1kl5yav5yv0M"
      }
    },
    {
      "cell_type": "code",
      "source": [
        "import matplotlib.pyplot as plt\n",
        "\n",
        "plt.figure()\n",
        "plt.plot(all_losses)"
      ],
      "metadata": {
        "colab": {
          "base_uri": "https://localhost:8080/",
          "height": 447
        },
        "id": "QOgFE-OUyyNQ",
        "outputId": "d7e4cda5-afb0-4b60-ae3a-7e656b1cf0d8"
      },
      "execution_count": 24,
      "outputs": [
        {
          "output_type": "execute_result",
          "data": {
            "text/plain": [
              "[<matplotlib.lines.Line2D at 0x7af1fccda1d0>]"
            ]
          },
          "metadata": {},
          "execution_count": 24
        },
        {
          "output_type": "display_data",
          "data": {
            "text/plain": [
              "<Figure size 640x480 with 1 Axes>"
            ],
            "image/png": "[encoded data removed]"
          },
          "metadata": {}
        }
      ]
    },
    {
      "cell_type": "markdown",
      "source": [
        "## Muestreo de la red\n",
        "Para muestrear damos a la red una letra y preguntamos cuál es la siguiente, introducimos esa como la siguiente letra, y repetimos hasta el token EOS.\n",
        "\n",
        "* Creamos tensores para la categoría de entrada, la letra inicial y el estado oculto vacío vacío\n",
        "\n",
        "* Crea una cadena nombre_de_salida con la letra inicial\n",
        "\n",
        "* Hasta una longitud máxima de salida,\n",
        "\n",
        "  * Alimentar la letra actual a la red\n",
        "  \n",
        "  * Obtiene la siguiente letra de la salida más alta, y el siguiente estado oculto\n",
        "\n",
        "  * Si la letra es EOS, parar aquí\n",
        "  * Si es una letra normal, añadir a nombre_salida y continuar\n",
        "\n",
        "Devuelve el nombre final\n",
        "\n",
        ".. Nota:: En lugar de tener que darle una letra inicial, otra estrategia habría sido incluir un token de \"inicio de cadena\" en el entrenamiento y que la red eligiera su propia letra inicial.\n"
      ],
      "metadata": {
        "id": "yvVPBgLHz2jc"
      }
    },
    {
      "cell_type": "code",
      "source": [
        "max_length = 20\n",
        "\n",
        "# Sample from a category and starting letter\n",
        "def sample(category, start_letter='A'):\n",
        "    with torch.no_grad():  # no need to track history in sampling\n",
        "        category_tensor = categoryTensor(category)\n",
        "        input = inputTensor(start_letter)\n",
        "        hidden = rnn.initHidden()\n",
        "\n",
        "        output_name = start_letter\n",
        "\n",
        "        for i in range(max_length):\n",
        "            output, hidden = rnn(category_tensor, input[0], hidden)\n",
        "            topv, topi = output.topk(1)\n",
        "            topi = topi[0][0]\n",
        "            if topi == n_letters - 1:\n",
        "                break\n",
        "            else:\n",
        "                letter = all_letters[topi]\n",
        "                output_name += letter\n",
        "            input = inputTensor(letter)\n",
        "\n",
        "        return output_name\n",
        "\n",
        "# Get multiple samples from one category and multiple starting letters\n",
        "def samples(category, start_letters='ABC'):\n",
        "    for start_letter in start_letters:\n",
        "        print(sample(category, start_letter))\n",
        "\n",
        "samples('Russian')\n",
        "samples('German')\n",
        "samples('Spanish')\n",
        "samples('Chinese')"
      ],
      "metadata": {
        "colab": {
          "base_uri": "https://localhost:8080/"
        },
        "id": "39WcDCB21CaF",
        "outputId": "5e875e9d-0dcd-48e3-eb8c-a52e96b677e8"
      },
      "execution_count": 26,
      "outputs": [
        {
          "output_type": "stream",
          "name": "stdout",
          "text": [
            "Allan\n",
            "Barino\n",
            "Chanak\n",
            "Alen\n",
            "Berten\n",
            "Chare\n",
            "Allana\n",
            "Bara\n",
            "Cara\n",
            "Ang\n",
            "Ban\n",
            "Chani\n"
          ]
        }
      ]
    },
    {
      "cell_type": "markdown",
      "source": [
        "## Ejercicios\n",
        "\n",
        "* Pruebe con un conjunto de datos diferente de categoría (Esta sección será la calificación de la práctica utilice cualquiera ejemplo que desea o de los planteados a continuación) -> línea, por ejemplo:\n",
        "\n",
        "  * Serie de ficción -> Nombre del personaje\n",
        "  * Parte de la oración -> Palabra\n",
        "  * País -> Ciudad\n",
        "\n",
        "A continuación se eligio un dataset sobre los lugares donde se grabaron y se rodaron algunas series, el cual se grabo.\n",
        "\n",
        "Bueno el archivo se llama data1, y los datos se encuentran dentro de la carpeta lugares_serie_ficcion.\n"
      ],
      "metadata": {
        "id": "DKsmff9h1u0j"
      }
    },
    {
      "cell_type": "code",
      "source": [
        "!unzip data1.zip"
      ],
      "metadata": {
        "colab": {
          "base_uri": "https://localhost:8080/"
        },
        "id": "wj2u4-ud1zwk",
        "outputId": "b0b46c1d-e644-4098-bb3b-dd6adf25c705"
      },
      "execution_count": 42,
      "outputs": [
        {
          "output_type": "stream",
          "name": "stdout",
          "text": [
            "Archive:  data1.zip\n",
            "   creating: data1/\n",
            "  inflating: data1/eng-fra.txt       \n",
            "   creating: data1/lugares_serie_ficcion/\n",
            "  inflating: data1/lugares_serie_ficcion/Better_Call_Saul.txt  \n",
            "  inflating: data1/lugares_serie_ficcion/Black_Mirror.txt  \n",
            "  inflating: data1/lugares_serie_ficcion/Breaking_Bad.txt  \n",
            "  inflating: data1/lugares_serie_ficcion/Chicago_Fire.txt  \n",
            "  inflating: data1/lugares_serie_ficcion/Cobra_Kai.txt  \n",
            "  inflating: data1/lugares_serie_ficcion/Game_of_Thrones.txt  \n",
            "  inflating: data1/lugares_serie_ficcion/Good_Wife.txt  \n",
            "  inflating: data1/lugares_serie_ficcion/House_of_Cards.txt  \n",
            "  inflating: data1/lugares_serie_ficcion/How_I_Met_Your_Mother.txt  \n",
            "  inflating: data1/lugares_serie_ficcion/Mad_Men.txt  \n",
            "  inflating: data1/lugares_serie_ficcion/Motel_Bates.txt  \n",
            "  inflating: data1/lugares_serie_ficcion/Narcos.txt  \n",
            "  inflating: data1/lugares_serie_ficcion/Person_of_Interest.txt  \n",
            "  inflating: data1/lugares_serie_ficcion/The_Last_Of_Us.txt  \n",
            "  inflating: data1/lugares_serie_ficcion/The_Sopranos.txt  \n",
            "  inflating: data1/lugares_serie_ficcion/The_Walking_Dead.txt  \n",
            "  inflating: data1/lugares_serie_ficcion/Vikingos.txt  \n"
          ]
        }
      ]
    },
    {
      "cell_type": "code",
      "source": [
        "from __future__ import unicode_literals, print_function, division\n",
        "from io import open\n",
        "import glob\n",
        "import os\n",
        "import unicodedata\n",
        "import string\n",
        "\n",
        "all_letters = string.ascii_letters + \" .,;'-\"\n",
        "n_letters = len(all_letters) + 1 # Plus EOS marker\n",
        "\n",
        "def findFiles(path):\n",
        "  return glob.glob(path)\n",
        "\n",
        "\n",
        "# Turn a Unicode string to plain ASCII, thanks to https://stackoverflow.com/a/518232/2809427\n",
        "def unicodeToAscii(s):\n",
        "    return ''.join(\n",
        "        c for c in unicodedata.normalize('NFD', s)\n",
        "        if unicodedata.category(c) != 'Mn' and c in all_letters\n",
        "    )\n",
        "\n",
        "# Read a file and split into lines\n",
        "def readLines(filename):\n",
        "    with open(filename, encoding='utf-8') as some_file:\n",
        "        return [unicodeToAscii(line.strip()) for line in some_file]\n",
        "\n",
        "\n",
        "# Build the category_lines dictionary, a list of lines per category\n",
        "category_lines = {}\n",
        "all_categories = []\n",
        "for filename in findFiles('data1/lugares_serie_ficcion/*.txt'):\n",
        "    category = os.path.splitext(os.path.basename(filename))[0]\n",
        "    all_categories.append(category)\n",
        "    lines = readLines(filename)\n",
        "    category_lines[category] = lines\n",
        "\n",
        "n_categories = len(all_categories)\n",
        "\n",
        "if n_categories == 0:\n",
        "    raise RuntimeError('Data not found. Make sure that you downloaded data '\n",
        "        'from https://download.pytorch.org/tutorial/data.zip and extract it to '\n",
        "        'the current directory.')\n",
        "\n",
        "\n",
        "print('# categories:', n_categories, all_categories)\n",
        "print(unicodeToAscii(\"O'Néàl\"))"
      ],
      "metadata": {
        "colab": {
          "base_uri": "https://localhost:8080/"
        },
        "id": "zFWnHwg7xilG",
        "outputId": "62ad79e2-e34d-474b-af6e-7229bbb9435c"
      },
      "execution_count": 43,
      "outputs": [
        {
          "output_type": "stream",
          "name": "stdout",
          "text": [
            "# categories: 17 ['House_of_Cards', 'How_I_Met_Your_Mother', 'Chicago_Fire', 'Mad_Men', 'Better_Call_Saul', 'The_Sopranos', 'Narcos', 'The_Last_Of_Us', 'Person_of_Interest', 'Good_Wife', 'Black_Mirror', 'The_Walking_Dead', 'Game_of_Thrones', 'Motel_Bates', 'Breaking_Bad', 'Cobra_Kai', 'Vikingos']\n",
            "O'Neal\n"
          ]
        }
      ]
    },
    {
      "cell_type": "code",
      "source": [
        "import torch\n",
        "import torch.nn as nn\n",
        "\n",
        "\n",
        "class RNN(nn.Module):\n",
        "    def __init__(self, input_size, hidden_size, output_size):\n",
        "        super(RNN, self).__init__()\n",
        "        self.hidden_size = hidden_size\n",
        "\n",
        "\n",
        "        self.i2h = nn.Linear(n_categories + input_size + hidden_size, hidden_size)\n",
        "        self.i2o = nn.Linear(n_categories + input_size + hidden_size, output_size)\n",
        "        self.o2o = nn.Linear(hidden_size + output_size, output_size)\n",
        "        self.dropout = nn.Dropout(0.1)\n",
        "        self.softmax = nn.LogSoftmax(dim=1)\n",
        "\n",
        "\n",
        "    def forward(self, category, input, hidden):\n",
        "        input_combined = torch.cat((category, input, hidden), 1)\n",
        "        hidden = self.i2h(input_combined)\n",
        "        output = self.i2o(input_combined)\n",
        "        output_combined = torch.cat((hidden, output), 1)\n",
        "        output = self.o2o(output_combined)\n",
        "        output = self.dropout(output)\n",
        "        output = self.softmax(output)\n",
        "        return output, hidden\n",
        "\n",
        "    def initHidden(self):\n",
        "        return torch.zeros(1, self.hidden_size)"
      ],
      "metadata": {
        "id": "jE-XN4BOx3Wt"
      },
      "execution_count": 44,
      "outputs": []
    },
    {
      "cell_type": "code",
      "source": [
        "import random\n",
        "\n",
        "# Random item from a list\n",
        "def randomChoice(l):\n",
        "    return l[random.randint(0, len(l) - 1)]\n",
        "\n",
        "# Get a random category and random line from that category\n",
        "def randomTrainingPair():\n",
        "    category = randomChoice(all_categories)\n",
        "    line = randomChoice(category_lines[category])\n",
        "    return category, line"
      ],
      "metadata": {
        "id": "LDpBptEVx6_1"
      },
      "execution_count": 45,
      "outputs": []
    },
    {
      "cell_type": "code",
      "source": [
        "# One-hot vector for category\n",
        "def categoryTensor(category):\n",
        "    li = all_categories.index(category)\n",
        "    tensor = torch.zeros(1, n_categories)\n",
        "    tensor[0][li] = 1\n",
        "    return tensor\n",
        "\n",
        "\n",
        "# One-hot matrix of first to last letters (not including EOS) for input\n",
        "def inputTensor(line):\n",
        "    tensor = torch.zeros(len(line), 1, n_letters)\n",
        "    for li in range(len(line)):\n",
        "        letter = line[li]\n",
        "        tensor[li][0][all_letters.find(letter)] = 1\n",
        "    return tensor\n",
        "\n",
        "# ``LongTensor`` of second letter to end (EOS) for target\n",
        "def targetTensor(line):\n",
        "    letter_indexes = [all_letters.find(line[li]) for li in range(1, len(line))]\n",
        "    letter_indexes.append(n_letters - 1) # EOS\n",
        "    return torch.LongTensor(letter_indexes)"
      ],
      "metadata": {
        "id": "PhXTm1tHx832"
      },
      "execution_count": 46,
      "outputs": []
    },
    {
      "cell_type": "code",
      "source": [
        "# Make category, input, and target tensors from a random category, line pair\n",
        "def randomTrainingExample():\n",
        "    category, line = randomTrainingPair()\n",
        "    category_tensor = categoryTensor(category)\n",
        "    input_line_tensor = inputTensor(line)\n",
        "    target_line_tensor = targetTensor(line)\n",
        "    return category_tensor, input_line_tensor, target_line_tensor"
      ],
      "metadata": {
        "id": "26b1ztNfx_iR"
      },
      "execution_count": 47,
      "outputs": []
    },
    {
      "cell_type": "code",
      "source": [
        "criterion = nn.NLLLoss()\n",
        "\n",
        "learning_rate = 0.0005\n",
        "\n",
        "def train(category_tensor, input_line_tensor, target_line_tensor):\n",
        "    target_line_tensor.unsqueeze_(-1)\n",
        "    hidden = rnn.initHidden()\n",
        "\n",
        "    rnn.zero_grad()\n",
        "\n",
        "    loss = 0\n",
        "\n",
        "    for i in range(input_line_tensor.size(0)):\n",
        "        output, hidden = rnn(category_tensor, input_line_tensor[i], hidden)\n",
        "        l = criterion(output, target_line_tensor[i])\n",
        "        loss += l\n",
        "\n",
        "    loss.backward()\n",
        "\n",
        "    for p in rnn.parameters():\n",
        "        p.data.add_(p.grad.data, alpha=-learning_rate)\n",
        "\n",
        "\n",
        "    return output, loss.item() / input_line_tensor.size(0)"
      ],
      "metadata": {
        "id": "FIPU4CDvyAYl"
      },
      "execution_count": 48,
      "outputs": []
    },
    {
      "cell_type": "code",
      "source": [
        "import time\n",
        "import math\n",
        "\n",
        "def timeSince(since):\n",
        "    now = time.time()\n",
        "    s = now - since\n",
        "    m = math.floor(s / 60)\n",
        "    s -= m * 60\n",
        "    return '%dm %ds' % (m, s)"
      ],
      "metadata": {
        "id": "FAUN0Gm8yERb"
      },
      "execution_count": 50,
      "outputs": []
    },
    {
      "cell_type": "code",
      "source": [
        "rnn = RNN(n_letters, 128, n_letters)\n",
        "\n",
        "n_iters = 100000\n",
        "print_every = 5000\n",
        "plot_every = 500\n",
        "all_losses = []\n",
        "total_loss = 0 # Reset every ``plot_every`` ``iters``\n",
        "\n",
        "start = time.time()\n",
        "\n",
        "for iter in range(1, n_iters + 1):\n",
        "    output, loss = train(*randomTrainingExample())\n",
        "    total_loss += loss\n",
        "\n",
        "    if iter % print_every == 0:\n",
        "        print('%s (%d %d%%) %.4f' % (timeSince(start), iter, iter / n_iters * 100, loss))\n",
        "\n",
        "    if iter % plot_every == 0:\n",
        "        all_losses.append(total_loss / plot_every)\n",
        "        total_loss = 0"
      ],
      "metadata": {
        "colab": {
          "base_uri": "https://localhost:8080/"
        },
        "id": "IfngvG4dyIHQ",
        "outputId": "6c867be3-1635-4b4c-c762-e4eb5b0d489d"
      },
      "execution_count": 51,
      "outputs": [
        {
          "output_type": "stream",
          "name": "stdout",
          "text": [
            "0m 24s (5000 5%) 2.5283\n",
            "0m 48s (10000 10%) 2.7042\n",
            "1m 12s (15000 15%) 2.4313\n",
            "1m 37s (20000 20%) 2.7961\n",
            "2m 1s (25000 25%) 2.4082\n",
            "2m 26s (30000 30%) 2.0208\n",
            "2m 52s (35000 35%) 2.7055\n",
            "3m 17s (40000 40%) 1.5840\n",
            "3m 42s (45000 45%) 2.3593\n",
            "4m 7s (50000 50%) 1.7366\n",
            "4m 32s (55000 55%) 1.9045\n",
            "4m 57s (60000 60%) 1.6073\n",
            "5m 21s (65000 65%) 1.7293\n",
            "5m 46s (70000 70%) 1.4852\n",
            "6m 11s (75000 75%) 0.8832\n",
            "6m 35s (80000 80%) 1.0905\n",
            "7m 0s (85000 85%) 1.2185\n",
            "7m 24s (90000 90%) 0.7284\n",
            "7m 48s (95000 95%) 1.0359\n",
            "8m 12s (100000 100%) 0.7319\n"
          ]
        }
      ]
    },
    {
      "cell_type": "code",
      "source": [
        "import matplotlib.pyplot as plt\n",
        "\n",
        "\n",
        "plt.figure()\n",
        "plt.plot(all_losses)"
      ],
      "metadata": {
        "colab": {
          "base_uri": "https://localhost:8080/",
          "height": 447
        },
        "id": "LpP0dqrm0IHB",
        "outputId": "fb67a2a7-759f-4b29-ffb2-80c41c364b38"
      },
      "execution_count": 52,
      "outputs": [
        {
          "output_type": "execute_result",
          "data": {
            "text/plain": [
              "[<matplotlib.lines.Line2D at 0x7af143f12020>]"
            ]
          },
          "metadata": {},
          "execution_count": 52
        },
        {
          "output_type": "display_data",
          "data": {
            "text/plain": [
              "<Figure size 640x480 with 1 Axes>"
            ],
            "image/png": "[encoded data removed]"
          },
          "metadata": {}
        }
      ]
    },
    {
      "cell_type": "code",
      "source": [
        "max_length = 20\n",
        "\n",
        "\n",
        "# Sample from a category and starting letter\n",
        "def sample(category, start_letter='A'):\n",
        "    with torch.no_grad():  # no need to track history in sampling\n",
        "        category_tensor = categoryTensor(category)\n",
        "        input = inputTensor(start_letter)\n",
        "        hidden = rnn.initHidden()\n",
        "\n",
        "\n",
        "        output_name = start_letter\n",
        "\n",
        "\n",
        "        for i in range(max_length):\n",
        "            output, hidden = rnn(category_tensor, input[0], hidden)\n",
        "            topv, topi = output.topk(1)\n",
        "            topi = topi[0][0]\n",
        "            if topi == n_letters - 1:\n",
        "                break\n",
        "            else:\n",
        "                letter = all_letters[topi]\n",
        "                output_name += letter\n",
        "            input = inputTensor(letter)\n",
        "        return output_name\n",
        "\n",
        "\n",
        "# Get multiple samples from one category and multiple starting letters\n",
        "def samples(category, start_letters='ABC'):\n",
        "    for start_letter in start_letters:\n",
        "        print(sample(category, start_letter))\n",
        "\n",
        "\"\"\"\n",
        "A continuacion se va a probar la funcionalidad del entrenamiento,\n",
        "mediante el ingreso de lugares donde se grabaron algunas de las\n",
        "series puestas en el dataset.\n",
        "\n",
        "\"\"\""
      ],
      "metadata": {
        "id": "P40z_tmA0Lqw"
      },
      "execution_count": 53,
      "outputs": []
    },
    {
      "cell_type": "code",
      "source": [
        "\n",
        "#Aqui se prueba con las categorias ingresadas\n",
        "samples('Better_Call_Saul')\n",
        "samples('Breaking_Bad')\n",
        "samples('Game_of_Thrones')\n",
        "samples('The_Walking_Dead')\n",
        "samples('Chicago_Fire')\n",
        "samples('Mad_Men')\n",
        "samples('Motel_Bates')"
      ],
      "metadata": {
        "colab": {
          "base_uri": "https://localhost:8080/"
        },
        "id": "S3OkmIMB0gCZ",
        "outputId": "e700297e-ab76-49c5-ed87-7e4ae4fbaf5b"
      },
      "execution_count": 59,
      "outputs": [
        {
          "output_type": "stream",
          "name": "stdout",
          "text": [
            "Ald Mushut os Aeralal\n",
            "Bay Sarket\n",
            "Chitta de Wist Rutre\n",
            "Albaqueruacior oniman\n",
            "Batak anica do Dortos\n",
            "Cata dranksat ominter\n",
            "Antallsa de Sanse, or\n",
            "Batoanada Fartater\n",
            "Chitan Re Maracena ds\n",
            "Ath Tucoutey\n",
            "Batumia\n",
            "Chringo\n",
            "Are Besh Aredem Parku\n",
            "Bagdingh Piak\n",
            "Chicago di pewazkia\n",
            "Allantarion Sat Hick \n",
            "Bondengot Dring\n",
            "Chiteriat Mackweor\n",
            "Areven\n",
            "Brich Cond or ;soru\n",
            "Chitarin Maneavarie\n"
          ]
        }
      ]
    }
  ]
}