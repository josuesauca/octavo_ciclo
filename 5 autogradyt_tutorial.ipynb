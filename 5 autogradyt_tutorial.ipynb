{
 "cells": [
  {
   "cell_type": "code",
   "execution_count": 2,
   "metadata": {},
   "outputs": [],
   "source": [
    "%matplotlib inline"
   ]
  },
  {
   "cell_type": "markdown",
   "metadata": {},
   "source": [
    "\n",
    "# Fundamentos de Autograd\n",
    "\n",
    "La característica Autograd de PyTorch es parte de lo que hace a PyTorch flexible y rápido para construir proyectos de aprendizaje automático. Permite el cálculo rápido y sencillo de múltiples derivadas parciales (también llamadas gradientes) sobre un cálculo complejo. Esta operación es fundamental para el aprendizaje de redes neuronales basado en la retropropagación.\n",
    "\n",
    "El poder de autograd viene del hecho de que traza su computación dinámicamente en tiempo de ejecución, lo que significa que si su modelo tiene ramas de decisión, o bucles cuyas longitudes no se conocen hasta el tiempo de ejecución, la computación seguirá siendo trazada correctamente, y obtendrá gradientes correctos para impulsar el aprendizaje. Esto, combinado con el hecho de que sus modelos se construyen en Python, ofrece mucha más flexibilidad que los marcos que se basan en el análisis estático de un modelo más rígidamente estructurado para calcular los gradientes.\n"
   ]
  },
  {
   "cell_type": "markdown",
   "metadata": {},
   "source": [
    "## ¿Para qué necesitamos Autograd?\n",
    "\n",
    "\n",
    "Un modelo de aprendizaje automático es una *función*, con entradas y salidas. Para esta discusión, trataremos las entradas como un vector *i*-dimensional $\\vec{x}$, con elementos $x_{i}$. Entonces podemos expresar el modelo, *M*, como una función de valor vectorial de la entrada: $\\vec{y} = \\vec{M}(\\vec{x})$. (Tratamos el valor de la salida de M como un vector porque, en general, un modelo puede tener cualquier número de salidas).\n",
    "\n",
    "Como hablaremos de autograd en el contexto del entrenamiento, nuestra salida de interés será la pérdida del modelo. La *función de pérdida* L($\\vec{y}$) = L($\\vec{M}$ ($\\vec{x}$)) es una función escalar de un solo valor de la salida del modelo. Esta función expresa cuánto se alejó la predicción de nuestro modelo de la salida *ideal* de una entrada particular. *Nota: Después de este punto, a menudo omitiremos el signo signo de vector donde debe ser contextualmente claro - por ejemplo,* $y$ en lugar de $\\vec y$.\n",
    "\n",
    "En el entrenamiento de un modelo, queremos minimizar la pérdida. En el caso idealizado de un modelo perfecto, eso significa ajustar sus pesos de aprendizaje -es decir, los parámetros ajustables de la función- de forma que la pérdida sea cero para todas las entradas. En el mundo real, significa un proceso iterativo de ajuste de los pesos de aprendizaje hasta que veamos que obtenemos una pérdida tolerable para una amplia variedad de entradas.\n",
    "\n",
    "¿Cómo decidimos hasta dónde y en qué dirección modificar los pesos? Queremos *minimizar* la pérdida, lo que significa hacer su primera derivada con respecto a la entrada igual a 0: $\\frac{\\partial L}{\\partial x} = 0$.\n",
    "\n",
    "Recordemos, sin embargo, que la pérdida no es *directamente* derivada de la entrada, sino una función de la salida del modelo (que es una función de la entrada directamente), $\\frac{\\partial L}{\\partial x}$ =\n",
    "$\\frac{\\partial {L({\\vec y})}}{\\partial x}$. Por la regla de la cadena del cálculo diferencial, tenemos $\\frac{\\partial {L({\\vec y})}}{\\partial x}$ =\n",
    "$\\frac{\\partial L}{\\partial y}\\frac{\\partial y}{\\partial x}$ =\n",
    "$\\frac{\\partial L}{\\partial y}\\frac{\\partial M(x)}{\\partial x}$.\n",
    "\n",
    "$\\frac{\\partial M(x)}{\\partial x}$es donde las cosas se ponen complejas. Las derivadas parciales de las salidas del modelo con respecto a su entradas, si tuviéramos que ampliar la expresión utilizando la regla de la cadena de nuevo, implicaría muchas derivadas parciales locales sobre cada peso de aprendizaje cada peso de aprendizaje multiplicado, cada función de activación y cualquier otra en el modelo. La expresión completa para cada una de estas derivada parcial es la suma de los productos del gradiente local de *cada camino posible posible* a través del gráfico de cálculo que termina con la variable cuyo gradiente intentamos medir.\n",
    "\n",
    "En particular, nos interesan los gradientes sobre los pesos de aprendizaje nos dicen *en qué dirección cambiar cada peso* para que la función de pérdida se acerque a cero. para que la función de pérdida se acerque a cero.\n",
    "\n",
    "Dado que el número de tales derivadas locales (cada una correspondiente a un de cálculo del modelo) tenderá a aumentar exponencialmente con la profundidad de un modelo neuronal. exponencialmente con la profundidad de una red neuronal, también lo hace la complejidad para calcularlas. Aquí es donde entra en juego autograd: Rastrea el historial de cada cálculo. Cada tensor computado en tu modelo PyTorch lleva un historial de sus tensores de entrada y la función usada para crearlo. Combinado con el hecho de que las funciones PyTorch destinadas a actuar sobre tienen cada una una implementación incorporada para calcular sus propias derivadas, esto acelera enormemente el cálculo de las derivadas locales necesarias para el aprendizaje. derivadas locales necesarias para el aprendizaje. "
   ]
  },
  {
   "cell_type": "markdown",
   "metadata": {},
   "source": [
    "## Un ejemplo sencillo\n",
    "\n",
    "Esto ha sido mucha teoría, pero ¿cómo se utiliza autograd en la práctica?\n",
    "\n",
    "Empecemos con un ejemplo sencillo. Primero, haremos algunas importaciones\n",
    "para poder representar gráficamente nuestros resultados:"
   ]
  },
  {
   "cell_type": "code",
   "execution_count": 2,
   "metadata": {},
   "outputs": [],
   "source": [
    "# %matplotlib inline\n",
    "\n",
    "import torch\n",
    "\n",
    "import matplotlib.pyplot as plt\n",
    "import matplotlib.ticker as ticker\n",
    "import math"
   ]
  },
  {
   "cell_type": "markdown",
   "metadata": {},
   "source": [
    "A continuación, vamos a crear un tensor de entrada lleno de valores espaciados uniformemente en el intervalo $[0, 2{\\pi}]$, y especificar ``requires_grad=True``. (Como la mayoría de las funciones que crean tensores, ``torch.linspace()`` acepta una opción ``requires_grad``). Establecer esta bandera significa que en cada cálculo que siga, autograd irá acumulando el historia del cálculo en los tensores de salida de ese cálculo.\n"
   ]
  },
  {
   "cell_type": "code",
   "execution_count": 3,
   "metadata": {},
   "outputs": [
    {
     "name": "stdout",
     "output_type": "stream",
     "text": [
      "tensor([0.0000, 0.2618, 0.5236, 0.7854, 1.0472, 1.3090, 1.5708, 1.8326, 2.0944,\n",
      "        2.3562, 2.6180, 2.8798, 3.1416, 3.4034, 3.6652, 3.9270, 4.1888, 4.4506,\n",
      "        4.7124, 4.9742, 5.2360, 5.4978, 5.7596, 6.0214, 6.2832],\n",
      "       requires_grad=True)\n"
     ]
    }
   ],
   "source": [
    "a = torch.linspace(0., 2. * math.pi, steps=25, requires_grad=True)\n",
    "print(a)"
   ]
  },
  {
   "cell_type": "markdown",
   "metadata": {},
   "source": [
    "A continuación, realizaremos un cálculo y graficaremos su resultado en función de sus entradas:\n"
   ]
  },
  {
   "cell_type": "code",
   "execution_count": 5,
   "metadata": {},
   "outputs": [
    {
     "data": {
      "text/plain": [
       "[<matplotlib.lines.Line2D at 0x1b6dcdca0a0>]"
      ]
     },
     "execution_count": 5,
     "metadata": {},
     "output_type": "execute_result"
    },
    {
     "data": {
      "image/png": "[encoded data removed]",
      "text/plain": [
       "<Figure size 432x288 with 1 Axes>"
      ]
     },
     "metadata": {
      "needs_background": "light"
     },
     "output_type": "display_data"
    }
   ],
   "source": [
    "b = torch.sin(a)\n",
    "plt.plot(a.detach(), b.detach())"
   ]
  },
  {
   "cell_type": "markdown",
   "metadata": {},
   "source": [
    "Echemos un vistazo más de cerca al tensor ``b``. Cuando lo imprimimos, vemos un indicador de que está rastreando su historia de cálculo:\n"
   ]
  },
  {
   "cell_type": "code",
   "execution_count": 6,
   "metadata": {},
   "outputs": [
    {
     "name": "stdout",
     "output_type": "stream",
     "text": [
      "tensor([ 0.0000e+00,  2.5882e-01,  5.0000e-01,  7.0711e-01,  8.6603e-01,\n",
      "         9.6593e-01,  1.0000e+00,  9.6593e-01,  8.6603e-01,  7.0711e-01,\n",
      "         5.0000e-01,  2.5882e-01, -8.7423e-08, -2.5882e-01, -5.0000e-01,\n",
      "        -7.0711e-01, -8.6603e-01, -9.6593e-01, -1.0000e+00, -9.6593e-01,\n",
      "        -8.6603e-01, -7.0711e-01, -5.0000e-01, -2.5882e-01,  1.7485e-07],\n",
      "       grad_fn=<SinBackward>)\n"
     ]
    }
   ],
   "source": [
    "print(b)"
   ]
  },
  {
   "cell_type": "markdown",
   "metadata": {},
   "source": [
    "\n",
    "Este ``grad_fn`` nos da una pista de que cuando se ejecuta el paso de retropropagación(backpropagation) y calcular gradientes, tendremos que calcular el derivada de $\\sin(x)$ para todas las entradas de este tensor.\n",
    "\n",
    "Vamos a realizar algunos cálculos más:\n",
    "\n",
    "\n"
   ]
  },
  {
   "cell_type": "code",
   "execution_count": 7,
   "metadata": {},
   "outputs": [
    {
     "name": "stdout",
     "output_type": "stream",
     "text": [
      "tensor([ 0.0000e+00,  5.1764e-01,  1.0000e+00,  1.4142e+00,  1.7321e+00,\n",
      "         1.9319e+00,  2.0000e+00,  1.9319e+00,  1.7321e+00,  1.4142e+00,\n",
      "         1.0000e+00,  5.1764e-01, -1.7485e-07, -5.1764e-01, -1.0000e+00,\n",
      "        -1.4142e+00, -1.7321e+00, -1.9319e+00, -2.0000e+00, -1.9319e+00,\n",
      "        -1.7321e+00, -1.4142e+00, -1.0000e+00, -5.1764e-01,  3.4969e-07],\n",
      "       grad_fn=<MulBackward0>)\n",
      "tensor([ 1.0000e+00,  1.5176e+00,  2.0000e+00,  2.4142e+00,  2.7321e+00,\n",
      "         2.9319e+00,  3.0000e+00,  2.9319e+00,  2.7321e+00,  2.4142e+00,\n",
      "         2.0000e+00,  1.5176e+00,  1.0000e+00,  4.8236e-01, -3.5763e-07,\n",
      "        -4.1421e-01, -7.3205e-01, -9.3185e-01, -1.0000e+00, -9.3185e-01,\n",
      "        -7.3205e-01, -4.1421e-01,  4.7684e-07,  4.8236e-01,  1.0000e+00],\n",
      "       grad_fn=<AddBackward0>)\n"
     ]
    }
   ],
   "source": [
    "c = 2 * b\n",
    "print(c)\n",
    "\n",
    "d = c + 1\n",
    "print(d)"
   ]
  },
  {
   "cell_type": "markdown",
   "metadata": {},
   "source": [
    "Por último, calculemos una salida de un solo elemento. Cuando se llama a ``.backward()`` en un tensor sin argumentos, se espera que el tensor de llamada contenga sólo un elemento único, como ocurre cuando se calcula una función de pérdida.\n",
    "\n"
   ]
  },
  {
   "cell_type": "code",
   "execution_count": 8,
   "metadata": {},
   "outputs": [
    {
     "name": "stdout",
     "output_type": "stream",
     "text": [
      "tensor(25., grad_fn=<SumBackward0>)\n"
     ]
    }
   ],
   "source": [
    "out = d.sum()\n",
    "print(out)"
   ]
  },
  {
   "cell_type": "markdown",
   "metadata": {},
   "source": [
    "Cada ``grad_fn`` almacenada con nuestros tensores te permite recorrer el cálculo hasta sus entradas con su propiedad ``next_functions``. Podemos ver a continuación que la exploración de esta propiedad en ``d`` nos muestra las funciones de gradiente para todos los tensores anteriores. Observa que ``a.grad_fn`` aparece como ``None``, indicando que era una entrada a la función sin historia propia.\n",
    "\n"
   ]
  },
  {
   "cell_type": "code",
   "execution_count": 9,
   "metadata": {},
   "outputs": [
    {
     "name": "stdout",
     "output_type": "stream",
     "text": [
      "d:\n",
      "<AddBackward0 object at 0x000001B6DEECBD00>\n",
      "((<MulBackward0 object at 0x000001B6DEECBF40>, 0), (None, 0))\n",
      "((<SinBackward object at 0x000001B6DEECBD00>, 0), (None, 0))\n",
      "((<AccumulateGrad object at 0x000001B6BF7E9340>, 0),)\n",
      "()\n",
      "\n",
      "c:\n",
      "<MulBackward0 object at 0x000001B6DEECA130>\n",
      "\n",
      "b:\n",
      "<SinBackward object at 0x000001B6DEECA130>\n",
      "\n",
      "a:\n",
      "None\n"
     ]
    }
   ],
   "source": [
    "print('d:')\n",
    "print(d.grad_fn)\n",
    "print(d.grad_fn.next_functions)\n",
    "print(d.grad_fn.next_functions[0][0].next_functions)\n",
    "print(d.grad_fn.next_functions[0][0].next_functions[0][0].next_functions)\n",
    "print(d.grad_fn.next_functions[0][0].next_functions[0][0].next_functions[0][0].next_functions)\n",
    "print('\\nc:')\n",
    "print(c.grad_fn)\n",
    "print('\\nb:')\n",
    "print(b.grad_fn)\n",
    "print('\\na:')\n",
    "print(a.grad_fn)"
   ]
  },
  {
   "cell_type": "markdown",
   "metadata": {},
   "source": [
    "Con toda esta maquinaria en marcha, ¿cómo sacamos las derivadas? Llamas al método ``backward()`` en la salida, y compruebas la propiedad ``grad`` de la entrada para inspeccionar los gradientes:\n",
    "\n"
   ]
  },
  {
   "cell_type": "code",
   "execution_count": 10,
   "metadata": {},
   "outputs": [
    {
     "name": "stdout",
     "output_type": "stream",
     "text": [
      "tensor([ 2.0000e+00,  1.9319e+00,  1.7321e+00,  1.4142e+00,  1.0000e+00,\n",
      "         5.1764e-01, -8.7423e-08, -5.1764e-01, -1.0000e+00, -1.4142e+00,\n",
      "        -1.7321e+00, -1.9319e+00, -2.0000e+00, -1.9319e+00, -1.7321e+00,\n",
      "        -1.4142e+00, -1.0000e+00, -5.1764e-01,  2.3850e-08,  5.1764e-01,\n",
      "         1.0000e+00,  1.4142e+00,  1.7321e+00,  1.9319e+00,  2.0000e+00])\n"
     ]
    },
    {
     "data": {
      "text/plain": [
       "[<matplotlib.lines.Line2D at 0x1b6deeeea60>]"
      ]
     },
     "execution_count": 10,
     "metadata": {},
     "output_type": "execute_result"
    },
    {
     "data": {
      "image/png": "[encoded data removed]",
      "text/plain": [
       "<Figure size 432x288 with 1 Axes>"
      ]
     },
     "metadata": {
      "needs_background": "light"
     },
     "output_type": "display_data"
    }
   ],
   "source": [
    "out.backward()\n",
    "print(a.grad)\n",
    "plt.plot(a.detach(), a.grad.detach())"
   ]
  },
  {
   "cell_type": "markdown",
   "metadata": {},
   "source": [
    "## Activar y desactivar Autograd\n",
    "\n",
    "Hay situaciones en las que necesitará un control preciso sobre la activación del autograd. Hay varias maneras de hacerlo, dependiendo de la situación.\n",
    "\n",
    "La más simple es cambiar la bandera ``requires_grad`` en un tensor directamente:\n",
    "\n",
    "\n"
   ]
  },
  {
   "cell_type": "code",
   "execution_count": 11,
   "metadata": {},
   "outputs": [
    {
     "name": "stdout",
     "output_type": "stream",
     "text": [
      "tensor([[1., 1., 1.],\n",
      "        [1., 1., 1.]], requires_grad=True)\n",
      "tensor([[2., 2., 2.],\n",
      "        [2., 2., 2.]], grad_fn=<MulBackward0>)\n",
      "tensor([[2., 2., 2.],\n",
      "        [2., 2., 2.]])\n"
     ]
    }
   ],
   "source": [
    "a = torch.ones(2, 3, requires_grad=True)\n",
    "print(a)\n",
    "\n",
    "b1 = 2 * a\n",
    "print(b1)\n",
    "\n",
    "a.requires_grad = False\n",
    "b2 = 2 * a\n",
    "print(b2)"
   ]
  },
  {
   "cell_type": "markdown",
   "metadata": {},
   "source": [
    "En la celda anterior, vemos que b1 tiene un ``grad_fn`` (es decir, una historia de cálculo trazada), que es lo que esperamos, ya que se derivó de un tensor, ``a``, que tenía autograd activado. Cuando desactivamos ``autograd`` explícitamente con ``a.requires_grad = False``, la historia del cálculo ya no se rastrea, como vemos cuando calculamos ``b2``.\n",
    "\n",
    "Si sólo necesita ``autograd`` apagado temporalmente, una mejor manera es utilizar la ``torch.no_grad():``\n",
    "\n",
    "\n"
   ]
  },
  {
   "cell_type": "code",
   "execution_count": 12,
   "metadata": {},
   "outputs": [
    {
     "name": "stdout",
     "output_type": "stream",
     "text": [
      "tensor([[5., 5., 5.],\n",
      "        [5., 5., 5.]], grad_fn=<AddBackward0>)\n",
      "tensor([[5., 5., 5.],\n",
      "        [5., 5., 5.]])\n",
      "tensor([[6., 6., 6.],\n",
      "        [6., 6., 6.]], grad_fn=<MulBackward0>)\n"
     ]
    }
   ],
   "source": [
    "a = torch.ones(2, 3, requires_grad=True) * 2\n",
    "b = torch.ones(2, 3, requires_grad=True) * 3\n",
    "\n",
    "c1 = a + b\n",
    "print(c1)\n",
    "\n",
    "with torch.no_grad():\n",
    "    c2 = a + b\n",
    "\n",
    "print(c2)\n",
    "\n",
    "c3 = a * b\n",
    "print(c3)"
   ]
  },
  {
   "cell_type": "markdown",
   "metadata": {},
   "source": [
    "``torch.no_grad()`` también puede utilizarse como decorador de funciones o métodos:\n",
    "\n",
    "\n"
   ]
  },
  {
   "cell_type": "code",
   "execution_count": 13,
   "metadata": {},
   "outputs": [
    {
     "name": "stdout",
     "output_type": "stream",
     "text": [
      "tensor([[5., 5., 5.],\n",
      "        [5., 5., 5.]], grad_fn=<AddBackward0>)\n",
      "tensor([[5., 5., 5.],\n",
      "        [5., 5., 5.]])\n"
     ]
    }
   ],
   "source": [
    "def add_tensors1(x, y):\n",
    "    return x + y\n",
    "\n",
    "@torch.no_grad()\n",
    "def add_tensors2(x, y):\n",
    "    return x + y\n",
    "\n",
    "\n",
    "a = torch.ones(2, 3, requires_grad=True) * 2\n",
    "b = torch.ones(2, 3, requires_grad=True) * 3\n",
    "\n",
    "c1 = add_tensors1(a, b)\n",
    "print(c1)\n",
    "\n",
    "c2 = add_tensors2(a, b)\n",
    "print(c2)"
   ]
  },
  {
   "cell_type": "markdown",
   "metadata": {},
   "source": [
    "Hay un gestor de contexto correspondiente, ``torch.enable_grad()``, para activar autograd cuando aún no lo está. También puede usarse como decorador.\n",
    "\n",
    "Finalmente, puedes tener un ``tensor`` que requiera seguimiento de gradiente, pero quieres una copia que no lo requiera. Para esto tenemos el método ``detach()`` del objeto Tensor - crea una copia del tensor que se separa de la historia del cálculo:\n",
    "\n"
   ]
  },
  {
   "cell_type": "code",
   "execution_count": 14,
   "metadata": {},
   "outputs": [
    {
     "name": "stdout",
     "output_type": "stream",
     "text": [
      "tensor([0.4529, 0.1175, 0.6566, 0.4978, 0.5896], requires_grad=True)\n",
      "tensor([0.4529, 0.1175, 0.6566, 0.4978, 0.5896])\n"
     ]
    }
   ],
   "source": [
    "x = torch.rand(5, requires_grad=True)\n",
    "y = x.detach()\n",
    "\n",
    "print(x)\n",
    "print(y)"
   ]
  },
  {
   "cell_type": "markdown",
   "metadata": {},
   "source": [
    "Hicimos esto arriba cuando quisimos graficar algunos de nuestros tensores. Esto es porque ``matplotlib`` espera un ``array NumPy`` como entrada, y la conversión implícita de un ``tensor PyTorch`` a un ``array NumPy`` no está habilitada para tensores con ``requires_grad=True``. Hacer una copia separada nos permite seguir adelante.\n",
    "\n",
    "\n",
    "## Autograd y Operaciones In-place\n",
    "\n",
    "En todos los ejemplos de este cuaderno hasta ahora, hemos utilizado variables para capturar los valores intermedios de un cálculo. ``Autograd`` necesita estos valores intermedios para realizar cálculos de gradiente. Por esta razón, debes tener cuidado con el uso de operaciones ``in-place`` cuando utilices ``autograd``. Una operación In-place es una operación que cambia directamente el contenido de un tensor dado sin hacer una copia. Las operaciones inplace en pytorch siempre tienen un postfijo _, como .add_() o .scatter_(). Las operaciones de Python como += o *= también son operaciones in situ. Hacerlo puede destruir la información que necesitas para calcular las derivadas en el ``backward()``. ``PyTorch`` incluso te detendrá si intentas una operación in-place en una variable de hoja que requiere autograd, como se muestra a continuación.\n",
    "\n"
   ]
  },
  {
   "cell_type": "code",
   "execution_count": 4,
   "metadata": {},
   "outputs": [
    {
     "ename": "RuntimeError",
     "evalue": "a leaf Variable that requires grad is being used in an in-place operation.",
     "output_type": "error",
     "traceback": [
      "\u001b[1;31m---------------------------------------------------------------------------\u001b[0m",
      "\u001b[1;31mRuntimeError\u001b[0m                              Traceback (most recent call last)",
      "\u001b[1;32m<ipython-input-4-4f751c48411e>\u001b[0m in \u001b[0;36m<module>\u001b[1;34m\u001b[0m\n\u001b[0;32m      1\u001b[0m \u001b[0ma\u001b[0m \u001b[1;33m=\u001b[0m \u001b[0mtorch\u001b[0m\u001b[1;33m.\u001b[0m\u001b[0mlinspace\u001b[0m\u001b[1;33m(\u001b[0m\u001b[1;36m0.\u001b[0m\u001b[1;33m,\u001b[0m \u001b[1;36m2.\u001b[0m \u001b[1;33m*\u001b[0m \u001b[0mmath\u001b[0m\u001b[1;33m.\u001b[0m\u001b[0mpi\u001b[0m\u001b[1;33m,\u001b[0m \u001b[0msteps\u001b[0m\u001b[1;33m=\u001b[0m\u001b[1;36m25\u001b[0m\u001b[1;33m,\u001b[0m \u001b[0mrequires_grad\u001b[0m\u001b[1;33m=\u001b[0m\u001b[1;32mTrue\u001b[0m\u001b[1;33m)\u001b[0m\u001b[1;33m\u001b[0m\u001b[1;33m\u001b[0m\u001b[0m\n\u001b[1;32m----> 2\u001b[1;33m \u001b[0mtorch\u001b[0m\u001b[1;33m.\u001b[0m\u001b[0msin_\u001b[0m\u001b[1;33m(\u001b[0m\u001b[0ma\u001b[0m\u001b[1;33m)\u001b[0m\u001b[1;33m\u001b[0m\u001b[1;33m\u001b[0m\u001b[0m\n\u001b[0m\u001b[0;32m      3\u001b[0m \u001b[1;33m\u001b[0m\u001b[0m\n",
      "\u001b[1;31mRuntimeError\u001b[0m: a leaf Variable that requires grad is being used in an in-place operation."
     ]
    }
   ],
   "source": [
    "a = torch.linspace(0., 2. * math.pi, steps=25, requires_grad=True)\n",
    "torch.sin_(a)\n",
    "\n"
   ]
  },
  {
   "cell_type": "markdown",
   "metadata": {},
   "source": [
    "## Autograd Profiler\n",
    "\n",
    "``Autograd`` rastrea cada paso de su cálculo en detalle. Tal historial de cómputo, combinado con la información de tiempo, sería un generador de perfiles útil, y autograd tiene esa función integrada. Aquí hay un ejemplo rápido de uso:\n",
    "\n"
   ]
  },
  {
   "cell_type": "code",
   "execution_count": 18,
   "metadata": {},
   "outputs": [
    {
     "name": "stdout",
     "output_type": "stream",
     "text": [
      "---------------  ------------  ------------  ------------  ------------  ------------  ------------  ------------  ------------  ------------  ------------  \n",
      "           Name    Self CPU %      Self CPU   CPU total %     CPU total  CPU time avg     Self CUDA   Self CUDA %    CUDA total  CUDA time avg    # of Calls  \n",
      "---------------  ------------  ------------  ------------  ------------  ------------  ------------  ------------  ------------  ------------  ------------  \n",
      "      aten::div        48.49%      36.122ms        50.69%      37.755ms      37.755us      38.639ms        50.92%      38.639ms      38.639us          1000  \n",
      "      aten::mul        47.22%      35.175ms        49.31%      36.733ms      36.733us      37.246ms        49.08%      37.246ms      37.246us          1000  \n",
      "    aten::empty         4.28%       3.192ms         4.28%       3.192ms       1.596us       0.000us         0.00%       0.000us       0.000us          2000  \n",
      "---------------  ------------  ------------  ------------  ------------  ------------  ------------  ------------  ------------  ------------  ------------  \n",
      "Self CPU time total: 74.489ms\n",
      "Self CUDA time total: 75.885ms\n",
      "\n"
     ]
    }
   ],
   "source": [
    "device = torch.device('cpu')\n",
    "run_on_gpu = False\n",
    "if torch.cuda.is_available():\n",
    "    device = torch.device('cuda')\n",
    "    run_on_gpu = True\n",
    "    \n",
    "x = torch.randn(2, 3, requires_grad=True)\n",
    "y = torch.rand(2, 3, requires_grad=True)\n",
    "z = torch.ones(2, 3, requires_grad=True)\n",
    "\n",
    "with torch.autograd.profiler.profile(use_cuda=run_on_gpu) as prf:\n",
    "    for _ in range(1000):\n",
    "        z = (z / x) * y\n",
    "        \n",
    "print(prf.key_averages().table(sort_by='self_cpu_time_total'))"
   ]
  },
  {
   "cell_type": "markdown",
   "metadata": {},
   "source": [
    "El generador de perfiles también puede etiquetar subbloques individuales de código, desglosar\n",
    "datos por forma de tensor de entrada y exportar datos como herramientas de seguimiento de Chrome\n",
    "archivo. Para obtener detalles completos de la API, consulte el\n",
    "[documentación](https://pytorch.org/docs/stable/autograd.html#profiler)_.\n",
    "\n",
    "## Tema avanzado: más detalles de Autograd y la API de alto nivel\n",
    "\n",
    "Si tiene una función con una entrada n-dimensional y m-dimensional\n",
    "salida, $\\vec{y}=f(\\vec{x})$, el gradiente completo es una matriz de\n",
    "la derivada de cada salida con respecto a cada entrada, llamada\n",
    "*jacobiano:*\n",
    "\n",
    "\\begin{align}J\n",
    "     =\n",
    "     \\left(\\begin{array}{ccc}\n",
    "     \\frac{\\partial y_{1}}{\\partial x_{1}} & \\cdots & \\frac{\\partial y_{1}}{\\partial x_{n}}\\\\\n",
    "     \\vdots & \\ddots & \\vdots\\\\\n",
    "     \\frac{\\partial y_{m}}{\\partial x_{1}} & \\cdots & \\frac{\\partial y_{m}}{\\partial x_{n}}\n",
    "     \\end{array}\\right)\\end{align}\n",
    "\n",
    "Si tiene una segunda función, $l=g\\left(\\vec{y}\\right)$ que\n",
    "toma una entrada m-dimensional (es decir, la misma dimensionalidad que la\n",
    "salida anterior) y devuelve una salida escalar, puede expresar sus\n",
    "gradientes con respecto a $\\vec{y}$ como vector columna,\n",
    "$v=\\left(\\begin{array}{ccc}\\frac{\\partial l}{\\partial y_{1}} & \\cdots & \\frac{\\partial l}{\\partial y_{m}}\\end{array}\\right)^{T}$\n",
    "- que en realidad es solo un jacobiano de una columna.\n",
    "\n",
    "Más concretamente, imagine la primera función como su modelo PyTorch (con potencialmente muchas entradas y muchas salidas) y la segunda función como una función de pérdida (con la salida del modelo como entrada y el valor de pérdida como salida escalar).\n",
    "\n",
    "Si multiplicamos el jacobiano de la primera función por el gradiente de la segunda función y aplicamos la regla de la cadena, obtenemos:\n",
    "\n",
    "\n",
    "\\begin{align}J^{T}\\cdot v=\\left(\\begin{array}{ccc}\n",
    "   \\frac{\\partial y_{1}}{\\partial x_{1}} & \\cdots & \\frac{\\partial y_{m}}{\\partial x_{1}}\\\\\n",
    "   \\vdots & \\ddots & \\vdots\\\\\n",
    "   \\frac{\\partial y_{1}}{\\partial x_{n}} & \\cdots & \\frac{\\partial y_{m}}{\\partial x_{n}}\n",
    "   \\end{array}\\right)\\left(\\begin{array}{c}\n",
    "   \\frac{\\partial l}{\\partial y_{1}}\\\\\n",
    "   \\vdots\\\\\n",
    "   \\frac{\\partial l}{\\partial y_{m}}\n",
    "   \\end{array}\\right)=\\left(\\begin{array}{c}\n",
    "   \\frac{\\partial l}{\\partial x_{1}}\\\\\n",
    "   \\vdots\\\\\n",
    "   \\frac{\\partial l}{\\partial x_{n}}\n",
    "   \\end{array}\\right)\\end{align}\n",
    "\n",
    "Nota: también podría usar la operación equivalente $v^{T}\\cdot J$,\n",
    "y recuperar un vector de fila.\n",
    "\n",
    "El vector columna resultante es el *gradiente de la segunda función con\n",
    "respecto a las entradas del primero* - o en el caso de nuestro modelo y\n",
    "función de pérdida, el gradiente de la pérdida con respecto al modelo\n",
    "entradas.\n",
    "\n",
    "**``torch.autograd`` es un motor para computar estos productos.** Este\n",
    "es cómo acumulamos los gradientes sobre los pesos de aprendizaje durante el\n",
    "pase hacia atrás.\n",
    "\n",
    "Por esta razón, la llamada ``hacia atrás()`` puede *también* tomar una opción\n",
    "entrada vectorial. Este vector representa un conjunto de gradientes sobre el tensor,\n",
    "que se multiplican por el jacobiano del tensor trazado por autograd que\n",
    "lo precede. Probemos un ejemplo específico con un vector pequeño:\n",
    "\n"
   ]
  },
  {
   "cell_type": "code",
   "execution_count": 19,
   "metadata": {},
   "outputs": [
    {
     "name": "stdout",
     "output_type": "stream",
     "text": [
      "tensor([ -748.8833, -1573.7837,  -336.0165], grad_fn=<MulBackward0>)\n"
     ]
    }
   ],
   "source": [
    "x = torch.randn(3, requires_grad=True)\n",
    "\n",
    "y = x * 2\n",
    "while y.data.norm() < 1000:\n",
    "    y = y * 2\n",
    "\n",
    "print(y)"
   ]
  },
  {
   "cell_type": "markdown",
   "metadata": {},
   "source": [
    "Si intentáramos llamar a ``y.backward()`` ahora, obtendríamos un error de tiempo de ejecución y un\n",
    "mensaje de que los gradientes solo se pueden calcular *implícitamente* para escalar\n",
    "salidas. Para una salida multidimensional, autograd espera que proporcionemos\n",
    "gradientes para esas tres salidas que puede multiplicar en el\n",
    "jacobiano:\n",
    "\n"
   ]
  },
  {
   "cell_type": "code",
   "execution_count": 20,
   "metadata": {},
   "outputs": [
    {
     "name": "stdout",
     "output_type": "stream",
     "text": [
      "tensor([1.0240e+02, 1.0240e+03, 1.0240e-01])\n"
     ]
    }
   ],
   "source": [
    "v = torch.tensor([0.1, 1.0, 0.0001], dtype=torch.float) # stand-in for gradients\n",
    "y.backward(v)\n",
    "\n",
    "print(x.grad)"
   ]
  },
  {
   "cell_type": "markdown",
   "metadata": {},
   "source": [
    "(Tenga en cuenta que los gradientes de salida están todos relacionados con potencias de dos, que\n",
    "esperaríamos de una operación de duplicación repetida.)\n",
    "\n",
    "### La API de alto nivel\n",
    "\n",
    "Hay una API en autograd que le brinda acceso directo a importantes\n",
    "operaciones diferenciales con matrices y vectores. En particular, le permite\n",
    "para calcular las matrices jacobiana y *hessiana* de una determinada\n",
    "función para entradas particulares. (El hessiano es como el jacobiano, pero\n",
    "expresa todas las derivadas *segunda* parciales.) También proporciona métodos\n",
    "para tomar productos vectoriales con estas matrices.\n",
    "\n",
    "Tomemos el jacobiano de una función simple, evaluada para un 2\n",
    "entradas de un solo elemento:\n",
    "\n",
    "\n"
   ]
  },
  {
   "cell_type": "code",
   "execution_count": 21,
   "metadata": {},
   "outputs": [
    {
     "name": "stdout",
     "output_type": "stream",
     "text": [
      "(tensor([0.0204]), tensor([0.7157]))\n"
     ]
    },
    {
     "data": {
      "text/plain": [
       "(tensor([[2.0412]]), tensor([[3.]]))"
      ]
     },
     "execution_count": 21,
     "metadata": {},
     "output_type": "execute_result"
    }
   ],
   "source": [
    "def exp_adder(x, y):\n",
    "    return 2 * x.exp() + 3 * y\n",
    "\n",
    "inputs = (torch.rand(1), torch.rand(1)) # arguments for the function\n",
    "print(inputs)\n",
    "torch.autograd.functional.jacobian(exp_adder, inputs)"
   ]
  },
  {
   "cell_type": "markdown",
   "metadata": {},
   "source": [
    "Si miras de cerca, la primera salida debería ser igual a $2e^x$ (ya que\n",
    "la derivada de $e^x$ es $e^x$), y el segundo valor\n",
    "debería ser 3.\n",
    "\n",
    "Por supuesto, puede hacer esto con tensores de orden superior:\n",
    "\n"
   ]
  },
  {
   "cell_type": "code",
   "execution_count": 22,
   "metadata": {},
   "outputs": [
    {
     "name": "stdout",
     "output_type": "stream",
     "text": [
      "(tensor([0.4203, 0.8772, 0.5600]), tensor([0.7472, 0.7861, 0.6246]))\n"
     ]
    },
    {
     "data": {
      "text/plain": [
       "(tensor([[3.0449, 0.0000, 0.0000],\n",
       "         [0.0000, 4.8083, 0.0000],\n",
       "         [0.0000, 0.0000, 3.5015]]),\n",
       " tensor([[3., 0., 0.],\n",
       "         [0., 3., 0.],\n",
       "         [0., 0., 3.]]))"
      ]
     },
     "execution_count": 22,
     "metadata": {},
     "output_type": "execute_result"
    }
   ],
   "source": [
    "inputs = (torch.rand(3), torch.rand(3)) # arguments for the function\n",
    "print(inputs)\n",
    "torch.autograd.functional.jacobian(exp_adder, inputs)"
   ]
  },
  {
   "cell_type": "markdown",
   "metadata": {},
   "source": [
    "El método ``torch.autograd.funcional.hessian()`` funciona de manera idéntica\n",
    "(suponiendo que su función es dos veces diferenciable), pero devuelve una matriz\n",
    "de todas las segundas derivadas.\n",
    "\n",
    "También hay una función para calcular directamente el vector-jacobiano\n",
    "producto, si proporciona el vector:\n",
    "\n",
    "\n"
   ]
  },
  {
   "cell_type": "code",
   "execution_count": 23,
   "metadata": {},
   "outputs": [
    {
     "data": {
      "text/plain": [
       "(tensor([-947.6455, -182.5196, -661.6850]),\n",
       " tensor([2.0480e+02, 2.0480e+03, 2.0480e-01]))"
      ]
     },
     "execution_count": 23,
     "metadata": {},
     "output_type": "execute_result"
    }
   ],
   "source": [
    "def do_some_doubling(x):\n",
    "    y = x * 2\n",
    "    while y.data.norm() < 1000:\n",
    "        y = y * 2\n",
    "    return y\n",
    "\n",
    "inputs = torch.randn(3)\n",
    "my_gradients = torch.tensor([0.1, 1.0, 0.0001])\n",
    "torch.autograd.functional.vjp(do_some_doubling, inputs, v=my_gradients)"
   ]
  },
  {
   "cell_type": "markdown",
   "metadata": {},
   "source": [
    "El método ``torch.autograd.funcional.jvp()`` realiza la misma matriz\n",
    "multiplicación como ``vjp()`` con los operandos invertidos. El ``vhp()``\n",
    "y los métodos ``hvp()`` hacen lo mismo para un producto vectorial-hessiano.\n",
    "\n",
    "Para obtener más información, incluidas las notas de rendimiento en los [docs for the\n",
    "funcional\n",
    "API](https://pytorch.org/docs/stable/autograd.html#function-higher-level-api)_\n",
    "\n",
    "\n",
    "\n"
   ]
  },
  {
   "cell_type": "code",
   "execution_count": null,
   "metadata": {},
   "outputs": [],
   "source": []
  }
 ],
 "metadata": {
  "kernelspec": {
   "display_name": "Python 3",
   "language": "python",
   "name": "python3"
  },
  "language_info": {
   "codemirror_mode": {
    "name": "ipython",
    "version": 3
   },
   "file_extension": ".py",
   "mimetype": "text/x-python",
   "name": "python",
   "nbconvert_exporter": "python",
   "pygments_lexer": "ipython3",
   "version": "3.8.5"
  }
 },
 "nbformat": 4,
 "nbformat_minor": 1
}
